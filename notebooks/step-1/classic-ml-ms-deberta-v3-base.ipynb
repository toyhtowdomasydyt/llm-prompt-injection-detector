{
 "cells": [
  {
   "metadata": {},
   "cell_type": "markdown",
   "source": "Setup PyTorch for Apple Silicon GPU",
   "id": "99132ca0588dab7"
  },
  {
   "cell_type": "code",
   "id": "initial_id",
   "metadata": {
    "collapsed": true,
    "ExecuteTime": {
     "end_time": "2024-09-20T19:15:22.753731Z",
     "start_time": "2024-09-20T19:15:21.941929Z"
    }
   },
   "source": [
    "import torch\n",
    "\n",
    "if torch.backends.mps.is_available():\n",
    "    device = torch.device(\"mps\")\n",
    "elif torch.cuda.is_available():\n",
    "    device = torch.device(\"cuda\")\n",
    "else:\n",
    "    device = torch.device(\"cpu\")\n",
    "\n",
    "print(device)"
   ],
   "outputs": [
    {
     "name": "stdout",
     "output_type": "stream",
     "text": [
      "mps\n"
     ]
    }
   ],
   "execution_count": 1
  },
  {
   "metadata": {},
   "cell_type": "markdown",
   "source": "Start of training",
   "id": "268def2a29726137"
  },
  {
   "metadata": {
    "ExecuteTime": {
     "end_time": "2024-09-20T19:15:27.030104Z",
     "start_time": "2024-09-20T19:15:24.495423Z"
    }
   },
   "cell_type": "code",
   "source": [
    "from transformers import DebertaV2Tokenizer, DebertaV2Model\n",
    "\n",
    "model_name = \"microsoft/deberta-v3-base\"\n",
    "tokenizer = DebertaV2Tokenizer.from_pretrained(model_name, clean_up_tokenization_spaces=False, use_fast=True)\n",
    "model = DebertaV2Model.from_pretrained(model_name).to(device)"
   ],
   "id": "a83a5a1fb9cbc8bd",
   "outputs": [],
   "execution_count": 2
  },
  {
   "metadata": {},
   "cell_type": "markdown",
   "source": "Dataset load",
   "id": "751ee7cd65074c85"
  },
  {
   "metadata": {
    "ExecuteTime": {
     "end_time": "2024-09-20T19:15:30.068317Z",
     "start_time": "2024-09-20T19:15:29.405437Z"
    }
   },
   "cell_type": "code",
   "source": [
    "import pandas as pd\n",
    "import swifter"
   ],
   "id": "4b4a04657f292698",
   "outputs": [],
   "execution_count": 3
  },
  {
   "metadata": {
    "ExecuteTime": {
     "end_time": "2024-09-20T19:15:31.057250Z",
     "start_time": "2024-09-20T19:15:31.054065Z"
    }
   },
   "cell_type": "code",
   "source": "ARTIFACTS_BASE = '../../artifacts/step-1/classic-ml-ms-deberta-v3-base/'",
   "id": "62e1e032ce12ff46",
   "outputs": [],
   "execution_count": 4
  },
  {
   "metadata": {
    "ExecuteTime": {
     "end_time": "2024-09-20T19:15:32.494200Z",
     "start_time": "2024-09-20T19:15:32.491631Z"
    }
   },
   "cell_type": "code",
   "source": [
    "# Function to convert string representation of vector to list of floats\n",
    "import numpy as np\n",
    "\n",
    "def convert_to_float_list(s):\n",
    "    s = s.strip('[]')\n",
    "    return np.array(s.split(), dtype=float)"
   ],
   "id": "b49e0f771d5127c6",
   "outputs": [],
   "execution_count": 5
  },
  {
   "metadata": {
    "ExecuteTime": {
     "end_time": "2024-09-20T19:15:44.847900Z",
     "start_time": "2024-09-20T19:15:33.735511Z"
    }
   },
   "cell_type": "code",
   "source": [
    "test_df = pd.read_csv(ARTIFACTS_BASE + 'test_df.csv')\n",
    "test_df['embedding'] = test_df['embedding'].swifter.apply(convert_to_float_list)\n",
    "test_df.head()"
   ],
   "id": "75cd844f329c9294",
   "outputs": [
    {
     "data": {
      "text/plain": [
       "Pandas Apply:   0%|          | 0/65416 [00:00<?, ?it/s]"
      ],
      "application/vnd.jupyter.widget-view+json": {
       "version_major": 2,
       "version_minor": 0,
       "model_id": "6fccfc2320bb4591929d894b4327cabe"
      }
     },
     "metadata": {},
     "output_type": "display_data"
    },
    {
     "data": {
      "text/plain": [
       "                                              prompt  label  \\\n",
       "0  Task: Given a list of words, identify which wo...      0   \n",
       "1  So I was watching episode 11 of Dark Angel sea...      0   \n",
       "2  Given the sentence \"Lots of people standing on...      0   \n",
       "3  In this task, you are given the name of an Ind...      0   \n",
       "4  Task: Replace all the sentences that use \"i\" w...      0   \n",
       "\n",
       "                                           embedding  \n",
       "0  [0.0470528901, 0.128666952, 0.120663926, 0.011...  \n",
       "1  [-0.077564396, 0.109083176, 0.141840488, 0.140...  \n",
       "2  [0.0886795521, 0.168291405, -0.0653214753, 0.0...  \n",
       "3  [-0.00887174066, 0.0103212046, -0.156578302, 0...  \n",
       "4  [0.0129042789, 0.0639195219, -0.259266078, 0.2...  "
      ],
      "text/html": [
       "<div>\n",
       "<style scoped>\n",
       "    .dataframe tbody tr th:only-of-type {\n",
       "        vertical-align: middle;\n",
       "    }\n",
       "\n",
       "    .dataframe tbody tr th {\n",
       "        vertical-align: top;\n",
       "    }\n",
       "\n",
       "    .dataframe thead th {\n",
       "        text-align: right;\n",
       "    }\n",
       "</style>\n",
       "<table border=\"1\" class=\"dataframe\">\n",
       "  <thead>\n",
       "    <tr style=\"text-align: right;\">\n",
       "      <th></th>\n",
       "      <th>prompt</th>\n",
       "      <th>label</th>\n",
       "      <th>embedding</th>\n",
       "    </tr>\n",
       "  </thead>\n",
       "  <tbody>\n",
       "    <tr>\n",
       "      <th>0</th>\n",
       "      <td>Task: Given a list of words, identify which wo...</td>\n",
       "      <td>0</td>\n",
       "      <td>[0.0470528901, 0.128666952, 0.120663926, 0.011...</td>\n",
       "    </tr>\n",
       "    <tr>\n",
       "      <th>1</th>\n",
       "      <td>So I was watching episode 11 of Dark Angel sea...</td>\n",
       "      <td>0</td>\n",
       "      <td>[-0.077564396, 0.109083176, 0.141840488, 0.140...</td>\n",
       "    </tr>\n",
       "    <tr>\n",
       "      <th>2</th>\n",
       "      <td>Given the sentence \"Lots of people standing on...</td>\n",
       "      <td>0</td>\n",
       "      <td>[0.0886795521, 0.168291405, -0.0653214753, 0.0...</td>\n",
       "    </tr>\n",
       "    <tr>\n",
       "      <th>3</th>\n",
       "      <td>In this task, you are given the name of an Ind...</td>\n",
       "      <td>0</td>\n",
       "      <td>[-0.00887174066, 0.0103212046, -0.156578302, 0...</td>\n",
       "    </tr>\n",
       "    <tr>\n",
       "      <th>4</th>\n",
       "      <td>Task: Replace all the sentences that use \"i\" w...</td>\n",
       "      <td>0</td>\n",
       "      <td>[0.0129042789, 0.0639195219, -0.259266078, 0.2...</td>\n",
       "    </tr>\n",
       "  </tbody>\n",
       "</table>\n",
       "</div>"
      ]
     },
     "execution_count": 6,
     "metadata": {},
     "output_type": "execute_result"
    }
   ],
   "execution_count": 6
  },
  {
   "metadata": {
    "ExecuteTime": {
     "end_time": "2024-09-20T19:16:30.889992Z",
     "start_time": "2024-09-20T19:15:44.866138Z"
    }
   },
   "cell_type": "code",
   "source": [
    "train_df = pd.read_csv(ARTIFACTS_BASE + 'train_df.csv')\n",
    "train_df['embedding'] = train_df['embedding'].swifter.apply(convert_to_float_list)\n",
    "train_df.head()"
   ],
   "id": "5f470b7230aedf13",
   "outputs": [
    {
     "data": {
      "text/plain": [
       "Pandas Apply:   0%|          | 0/261738 [00:00<?, ?it/s]"
      ],
      "application/vnd.jupyter.widget-view+json": {
       "version_major": 2,
       "version_minor": 0,
       "model_id": "9d37bd01707a419da35d3ca5864f3eb5"
      }
     },
     "metadata": {},
     "output_type": "display_data"
    },
    {
     "data": {
      "text/plain": [
       "                                              prompt  label  \\\n",
       "0  My question is: Alani earned $45 for 3 hours o...      0   \n",
       "1  Q: Yes / no, is the following a verifiable fac...      0   \n",
       "2  Read a code snippet and detect if there are an...      0   \n",
       "3  As a highly advanced chatbot, it is your duty ...      1   \n",
       "4           Tell me the main idea of this paragraph.      0   \n",
       "\n",
       "                                           embedding  \n",
       "0  [-0.0976323485, 0.15560329, 0.0484190285, -0.0...  \n",
       "1  [0.0271683801, 0.0977859125, -0.032584101, -0....  \n",
       "2  [-0.00371995103, 0.226242572, 0.0596871153, 0....  \n",
       "3  [0.276234031, 0.0609874725, -0.398053914, 0.04...  \n",
       "4  [-0.0443628579, 0.187087953, -0.0733531415, -0...  "
      ],
      "text/html": [
       "<div>\n",
       "<style scoped>\n",
       "    .dataframe tbody tr th:only-of-type {\n",
       "        vertical-align: middle;\n",
       "    }\n",
       "\n",
       "    .dataframe tbody tr th {\n",
       "        vertical-align: top;\n",
       "    }\n",
       "\n",
       "    .dataframe thead th {\n",
       "        text-align: right;\n",
       "    }\n",
       "</style>\n",
       "<table border=\"1\" class=\"dataframe\">\n",
       "  <thead>\n",
       "    <tr style=\"text-align: right;\">\n",
       "      <th></th>\n",
       "      <th>prompt</th>\n",
       "      <th>label</th>\n",
       "      <th>embedding</th>\n",
       "    </tr>\n",
       "  </thead>\n",
       "  <tbody>\n",
       "    <tr>\n",
       "      <th>0</th>\n",
       "      <td>My question is: Alani earned $45 for 3 hours o...</td>\n",
       "      <td>0</td>\n",
       "      <td>[-0.0976323485, 0.15560329, 0.0484190285, -0.0...</td>\n",
       "    </tr>\n",
       "    <tr>\n",
       "      <th>1</th>\n",
       "      <td>Q: Yes / no, is the following a verifiable fac...</td>\n",
       "      <td>0</td>\n",
       "      <td>[0.0271683801, 0.0977859125, -0.032584101, -0....</td>\n",
       "    </tr>\n",
       "    <tr>\n",
       "      <th>2</th>\n",
       "      <td>Read a code snippet and detect if there are an...</td>\n",
       "      <td>0</td>\n",
       "      <td>[-0.00371995103, 0.226242572, 0.0596871153, 0....</td>\n",
       "    </tr>\n",
       "    <tr>\n",
       "      <th>3</th>\n",
       "      <td>As a highly advanced chatbot, it is your duty ...</td>\n",
       "      <td>1</td>\n",
       "      <td>[0.276234031, 0.0609874725, -0.398053914, 0.04...</td>\n",
       "    </tr>\n",
       "    <tr>\n",
       "      <th>4</th>\n",
       "      <td>Tell me the main idea of this paragraph.</td>\n",
       "      <td>0</td>\n",
       "      <td>[-0.0443628579, 0.187087953, -0.0733531415, -0...</td>\n",
       "    </tr>\n",
       "  </tbody>\n",
       "</table>\n",
       "</div>"
      ]
     },
     "execution_count": 7,
     "metadata": {},
     "output_type": "execute_result"
    }
   ],
   "execution_count": 7
  },
  {
   "metadata": {
    "ExecuteTime": {
     "end_time": "2024-09-20T19:16:33.345242Z",
     "start_time": "2024-09-20T19:16:33.193573Z"
    }
   },
   "cell_type": "code",
   "source": [
    "X_test = pd.DataFrame(np.array(test_df['embedding'].to_list()))\n",
    "y_test = test_df[\"label\"]"
   ],
   "id": "4d7f6c3cacb949c4",
   "outputs": [],
   "execution_count": 8
  },
  {
   "metadata": {
    "ExecuteTime": {
     "end_time": "2024-09-20T19:16:35.528996Z",
     "start_time": "2024-09-20T19:16:34.206469Z"
    }
   },
   "cell_type": "code",
   "source": [
    "X_train = pd.DataFrame(np.array(train_df['embedding'].to_list()))\n",
    "y_train = train_df[\"label\"]"
   ],
   "id": "c9fb41e4deec4e09",
   "outputs": [],
   "execution_count": 9
  },
  {
   "metadata": {
    "ExecuteTime": {
     "end_time": "2024-09-20T19:16:36.099951Z",
     "start_time": "2024-09-20T19:16:36.097401Z"
    }
   },
   "cell_type": "code",
   "source": [
    "# Check number of training and testing samples\n",
    "print(f\"#Training Samples: {len(X_train)}\")\n",
    "print(f\"#Testing Samples: {len(X_test)}\")"
   ],
   "id": "745ac49c8c3fc665",
   "outputs": [
    {
     "name": "stdout",
     "output_type": "stream",
     "text": [
      "#Training Samples: 261738\n",
      "#Testing Samples: 65416\n"
     ]
    }
   ],
   "execution_count": 10
  },
  {
   "metadata": {
    "ExecuteTime": {
     "end_time": "2024-09-20T19:16:38.457402Z",
     "start_time": "2024-09-20T19:16:37.781236Z"
    }
   },
   "cell_type": "code",
   "source": [
    "# Import classification models\n",
    "from sklearn.naive_bayes import GaussianNB\n",
    "from sklearn.linear_model import LogisticRegression\n",
    "from sklearn import svm\n",
    "from sklearn.ensemble import RandomForestClassifier\n",
    "\n",
    "# Initialize estimators using their default parameters\n",
    "estimators = [\n",
    "    (\"Naive Bayes\", GaussianNB()),\n",
    "    (\"Logistic Regression\", LogisticRegression()),\n",
    "    (\"Support Vector Machine\", svm.SVC()),\n",
    "    (\"Random Forest\", RandomForestClassifier())\n",
    "]"
   ],
   "id": "a37ba621798a99ea",
   "outputs": [],
   "execution_count": 11
  },
  {
   "metadata": {
    "jupyter": {
     "is_executing": true
    },
    "ExecuteTime": {
     "end_time": "2024-09-20T19:21:09.198926Z",
     "start_time": "2024-09-20T19:16:45.150409Z"
    }
   },
   "cell_type": "code",
   "source": [
    "# Import performance metrics libraries\n",
    "from sklearn.metrics import accuracy_score, precision_score, recall_score, f1_score\n",
    "\n",
    "# Prepare a DataFrame to keep track of the models' performance\n",
    "results = pd.DataFrame(columns=[\"accuracy\", \"precision\", \"recall\", \"f1 score\"])\n",
    "\n",
    "# Iterate through each estimator in the list\n",
    "for est_name, est_obj in estimators:\n",
    "    \n",
    "    # Fit the model\n",
    "    est_obj.fit(X_train, y_train)\n",
    "    \n",
    "    # Use the model to predict unseen prompts\n",
    "    y_predict = est_obj.predict(X_test)\n",
    "    \n",
    "    # Calculate performance metrics\n",
    "    accuracy = accuracy_score(y_test, y_predict)\n",
    "    precision = precision_score(y_test, y_predict)\n",
    "    recall = recall_score(y_test, y_predict)\n",
    "    f1 = f1_score(y_test, y_predict)  \n",
    "    \n",
    "    # Store performance metrics\n",
    "    results.loc[est_name] = [accuracy, precision, recall, f1]"
   ],
   "id": "e13dbc58ae408377",
   "outputs": [
    {
     "name": "stderr",
     "output_type": "stream",
     "text": [
      "/Users/nr/Documents/LPNU/masters/llm-prompt-injection-detector/venv/lib/python3.12/site-packages/sklearn/linear_model/_logistic.py:469: ConvergenceWarning: lbfgs failed to converge (status=1):\n",
      "STOP: TOTAL NO. of ITERATIONS REACHED LIMIT.\n",
      "\n",
      "Increase the number of iterations (max_iter) or scale the data as shown in:\n",
      "    https://scikit-learn.org/stable/modules/preprocessing.html\n",
      "Please also refer to the documentation for alternative solver options:\n",
      "    https://scikit-learn.org/stable/modules/linear_model.html#logistic-regression\n",
      "  n_iter_i = _check_optimize_result(\n"
     ]
    }
   ],
   "execution_count": null
  }
 ],
 "metadata": {
  "kernelspec": {
   "display_name": "Python 3",
   "language": "python",
   "name": "python3"
  },
  "language_info": {
   "codemirror_mode": {
    "name": "ipython",
    "version": 2
   },
   "file_extension": ".py",
   "mimetype": "text/x-python",
   "name": "python",
   "nbconvert_exporter": "python",
   "pygments_lexer": "ipython2",
   "version": "2.7.6"
  }
 },
 "nbformat": 4,
 "nbformat_minor": 5
}
