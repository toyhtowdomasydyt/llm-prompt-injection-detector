{
 "cells": [
  {
   "metadata": {},
   "cell_type": "markdown",
   "source": "Setup PyTorch for Apple Silicon GPU",
   "id": "99132ca0588dab7"
  },
  {
   "cell_type": "code",
   "id": "initial_id",
   "metadata": {
    "collapsed": true
   },
   "source": [
    "import torch\n",
    "\n",
    "if torch.backends.mps.is_available():\n",
    "    device = torch.device(\"mps\")\n",
    "elif torch.cuda.is_available():\n",
    "    device = torch.device(\"cuda\")\n",
    "else:\n",
    "    device = torch.device(\"cpu\")\n",
    "\n",
    "print(device)"
   ],
   "outputs": [],
   "execution_count": null
  },
  {
   "metadata": {},
   "cell_type": "code",
   "source": "device = torch.device(\"cpu\")",
   "id": "4bff4c73f5362b35",
   "outputs": [],
   "execution_count": null
  },
  {
   "metadata": {},
   "cell_type": "markdown",
   "source": "",
   "id": "248b5074080a0683"
  },
  {
   "metadata": {},
   "cell_type": "markdown",
   "source": "Dataset load",
   "id": "399339a365792d9d"
  },
  {
   "metadata": {},
   "cell_type": "code",
   "source": [
    "import pandas as pd\n",
    "import swifter\n",
    "\n",
    "splits = {'train': 'data/train-00000-of-00001.parquet', 'test': 'data/test-00000-of-00001.parquet'}\n",
    "train_df = pd.read_parquet(\"hf://datasets/jayavibhav/prompt-injection/\" + splits[\"train\"])\n",
    "test_df = pd.read_parquet(\"hf://datasets/jayavibhav/prompt-injection/\" + splits[\"test\"])"
   ],
   "id": "f8e20dcb5a30dd59",
   "outputs": [],
   "execution_count": null
  },
  {
   "metadata": {},
   "cell_type": "code",
   "source": [
    "test_df.rename(columns={\"text\":\"prompt\"}, inplace=True)\n",
    "train_df.rename(columns={\"text\":\"prompt\"}, inplace=True)"
   ],
   "id": "7ae245f4be72d19f",
   "outputs": [],
   "execution_count": null
  },
  {
   "metadata": {},
   "cell_type": "code",
   "source": "test_df.head()",
   "id": "75acf8733fdb95bb",
   "outputs": [],
   "execution_count": null
  },
  {
   "metadata": {},
   "cell_type": "code",
   "source": "train_df.head()",
   "id": "f6be90c0f915f063",
   "outputs": [],
   "execution_count": null
  },
  {
   "metadata": {},
   "cell_type": "code",
   "source": [
    "from transformers import DebertaV2Tokenizer, DebertaV2Model\n",
    "\n",
    "model_name = \"microsoft/deberta-v3-base\"\n",
    "tokenizer = DebertaV2Tokenizer.from_pretrained(model_name, clean_up_tokenization_spaces=False, use_fast=True)\n",
    "model = DebertaV2Model.from_pretrained(model_name).to(device)"
   ],
   "id": "a83a5a1fb9cbc8bd",
   "outputs": [],
   "execution_count": null
  },
  {
   "metadata": {},
   "cell_type": "code",
   "source": [
    "def get_embedding(prompt):\n",
    "    tokens = tokenizer(prompt, return_tensors='pt', truncation=True, padding=True, max_length=512).to(device)\n",
    "\n",
    "    with torch.no_grad():\n",
    "        outputs = model(**tokens)\n",
    "\n",
    "    last_hidden_states = outputs.last_hidden_state\n",
    "    embedding_vector = last_hidden_states.mean(dim=1).squeeze().cpu().numpy()\n",
    "\n",
    "    return embedding_vector"
   ],
   "id": "716a021af29736e2",
   "outputs": [],
   "execution_count": null
  },
  {
   "metadata": {},
   "cell_type": "code",
   "source": "train_df['embedding'] = train_df['prompt'].swifter.apply(get_embedding)",
   "id": "4cf70846f7ea778e",
   "outputs": [],
   "execution_count": null
  },
  {
   "metadata": {},
   "cell_type": "code",
   "source": "test_df['embedding'] = test_df['prompt'].swifter.apply(get_embedding)",
   "id": "dfc8c788b61e119c",
   "outputs": [],
   "execution_count": null
  },
  {
   "metadata": {},
   "cell_type": "code",
   "source": "ARTIFACTS_BASE = '../../artifacts/step-1/classic-ml-ms-deberta-v3-base/'",
   "id": "62e1e032ce12ff46",
   "outputs": [],
   "execution_count": null
  },
  {
   "metadata": {},
   "cell_type": "code",
   "source": [
    "train_df.to_csv(ARTIFACTS_BASE + 'train_df.csv', index=False)\n",
    "train_df.to_pickle(ARTIFACTS_BASE + 'train_df.pkl')"
   ],
   "id": "4c9599387c186674",
   "outputs": [],
   "execution_count": null
  },
  {
   "metadata": {},
   "cell_type": "code",
   "source": [
    "test_df.to_csv(ARTIFACTS_BASE + 'test_df.csv', index=False)\n",
    "test_df.to_pickle(ARTIFACTS_BASE + 'test_df.pkl')"
   ],
   "id": "80b09a067949b2b8",
   "outputs": [],
   "execution_count": null
  }
 ],
 "metadata": {
  "kernelspec": {
   "display_name": "Python 3",
   "language": "python",
   "name": "python3"
  },
  "language_info": {
   "codemirror_mode": {
    "name": "ipython",
    "version": 2
   },
   "file_extension": ".py",
   "mimetype": "text/x-python",
   "name": "python",
   "nbconvert_exporter": "python",
   "pygments_lexer": "ipython2",
   "version": "2.7.6"
  }
 },
 "nbformat": 4,
 "nbformat_minor": 5
}
