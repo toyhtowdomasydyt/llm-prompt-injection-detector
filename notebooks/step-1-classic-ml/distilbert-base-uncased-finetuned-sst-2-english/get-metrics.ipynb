{
 "cells": [
  {
   "cell_type": "markdown",
   "id": "99132ca0588dab7",
   "metadata": {},
   "source": [
    "Setup PyTorch to use best hardware option"
   ]
  },
  {
   "cell_type": "code",
   "execution_count": 1,
   "id": "initial_id",
   "metadata": {
    "ExecuteTime": {
     "end_time": "2024-09-27T21:01:48.411119Z",
     "start_time": "2024-09-27T21:01:47.625067Z"
    }
   },
   "outputs": [
    {
     "name": "stdout",
     "output_type": "stream",
     "text": [
      "cuda\n"
     ]
    }
   ],
   "source": [
    "import torch\n",
    "\n",
    "if torch.backends.mps.is_available():\n",
    "    device = torch.device(\"mps\")\n",
    "elif torch.cuda.is_available():\n",
    "    device = torch.device(\"cuda\")\n",
    "else:\n",
    "    device = torch.device(\"cpu\")\n",
    "\n",
    "print(device)"
   ]
  },
  {
   "cell_type": "markdown",
   "id": "268def2a29726137",
   "metadata": {},
   "source": [
    "Get model and tokenizer from Hugginface"
   ]
  },
  {
   "cell_type": "code",
   "execution_count": 4,
   "id": "a83a5a1fb9cbc8bd",
   "metadata": {
    "ExecuteTime": {
     "end_time": "2024-09-27T21:01:53.944874Z",
     "start_time": "2024-09-27T21:01:52.109354Z"
    }
   },
   "outputs": [],
   "source": [
    "from transformers import AutoTokenizer, AutoModel\n",
    "\n",
    "model_name = \"distilbert/distilbert-base-uncased-finetuned-sst-2-english\"\n",
    "tokenizer = AutoTokenizer.from_pretrained(model_name, clean_up_tokenization_spaces=False, use_fast=True)\n",
    "model = AutoModel.from_pretrained(model_name).to(device)"
   ]
  },
  {
   "cell_type": "markdown",
   "id": "751ee7cd65074c85",
   "metadata": {},
   "source": [
    "Dataset load"
   ]
  },
  {
   "cell_type": "code",
   "execution_count": 5,
   "id": "4b4a04657f292698",
   "metadata": {
    "ExecuteTime": {
     "end_time": "2024-09-27T21:02:06.399182Z",
     "start_time": "2024-09-27T21:02:06.396580Z"
    }
   },
   "outputs": [],
   "source": [
    "import pandas as pd\n",
    "import swifter"
   ]
  },
  {
   "cell_type": "code",
   "execution_count": 9,
   "id": "62e1e032ce12ff46",
   "metadata": {
    "ExecuteTime": {
     "end_time": "2024-09-27T21:02:07.970153Z",
     "start_time": "2024-09-27T21:02:07.967459Z"
    }
   },
   "outputs": [],
   "source": [
    "ARTIFACTS_BASE = '../../../artifacts/step-1-classic-ml/distilbert-base-uncased-finetuned-sst-2-english/'"
   ]
  },
  {
   "cell_type": "code",
   "execution_count": 7,
   "id": "b49e0f771d5127c6",
   "metadata": {
    "ExecuteTime": {
     "end_time": "2024-09-27T21:02:09.730874Z",
     "start_time": "2024-09-27T21:02:09.728072Z"
    }
   },
   "outputs": [],
   "source": [
    "# Function to convert string representation of vector to list of floats\n",
    "import numpy as np\n",
    "\n",
    "def convert_to_float_list(s):\n",
    "    s = s.strip('[]')\n",
    "    return np.array(s.split(), dtype=float)"
   ]
  },
  {
   "cell_type": "code",
   "execution_count": 10,
   "id": "75cd844f329c9294",
   "metadata": {
    "ExecuteTime": {
     "end_time": "2024-09-27T21:02:22.305383Z",
     "start_time": "2024-09-27T21:02:11.329596Z"
    }
   },
   "outputs": [
    {
     "data": {
      "text/html": [
       "<div>\n",
       "<style scoped>\n",
       "    .dataframe tbody tr th:only-of-type {\n",
       "        vertical-align: middle;\n",
       "    }\n",
       "\n",
       "    .dataframe tbody tr th {\n",
       "        vertical-align: top;\n",
       "    }\n",
       "\n",
       "    .dataframe thead th {\n",
       "        text-align: right;\n",
       "    }\n",
       "</style>\n",
       "<table border=\"1\" class=\"dataframe\">\n",
       "  <thead>\n",
       "    <tr style=\"text-align: right;\">\n",
       "      <th></th>\n",
       "      <th>prompt</th>\n",
       "      <th>label</th>\n",
       "      <th>embedding</th>\n",
       "    </tr>\n",
       "  </thead>\n",
       "  <tbody>\n",
       "    <tr>\n",
       "      <th>0</th>\n",
       "      <td>Task: Given a list of words, identify which wo...</td>\n",
       "      <td>0</td>\n",
       "      <td>[-0.45421112, 0.6041618, -0.19468212, -0.22714...</td>\n",
       "    </tr>\n",
       "    <tr>\n",
       "      <th>1</th>\n",
       "      <td>So I was watching episode 11 of Dark Angel sea...</td>\n",
       "      <td>0</td>\n",
       "      <td>[-0.0038527825, 0.48712388, 0.1536091, -0.1433...</td>\n",
       "    </tr>\n",
       "    <tr>\n",
       "      <th>2</th>\n",
       "      <td>Given the sentence \"Lots of people standing on...</td>\n",
       "      <td>0</td>\n",
       "      <td>[-0.4880085, 0.48155108, -0.31909367, -0.34127...</td>\n",
       "    </tr>\n",
       "    <tr>\n",
       "      <th>3</th>\n",
       "      <td>In this task, you are given the name of an Ind...</td>\n",
       "      <td>0</td>\n",
       "      <td>[-0.28547662, 0.66922814, -0.32103178, -0.4978...</td>\n",
       "    </tr>\n",
       "    <tr>\n",
       "      <th>4</th>\n",
       "      <td>Task: Replace all the sentences that use \"i\" w...</td>\n",
       "      <td>0</td>\n",
       "      <td>[-0.123003766, 0.833054, -0.6437457, -0.428326...</td>\n",
       "    </tr>\n",
       "  </tbody>\n",
       "</table>\n",
       "</div>"
      ],
      "text/plain": [
       "                                              prompt  label  \\\n",
       "0  Task: Given a list of words, identify which wo...      0   \n",
       "1  So I was watching episode 11 of Dark Angel sea...      0   \n",
       "2  Given the sentence \"Lots of people standing on...      0   \n",
       "3  In this task, you are given the name of an Ind...      0   \n",
       "4  Task: Replace all the sentences that use \"i\" w...      0   \n",
       "\n",
       "                                           embedding  \n",
       "0  [-0.45421112, 0.6041618, -0.19468212, -0.22714...  \n",
       "1  [-0.0038527825, 0.48712388, 0.1536091, -0.1433...  \n",
       "2  [-0.4880085, 0.48155108, -0.31909367, -0.34127...  \n",
       "3  [-0.28547662, 0.66922814, -0.32103178, -0.4978...  \n",
       "4  [-0.123003766, 0.833054, -0.6437457, -0.428326...  "
      ]
     },
     "execution_count": 10,
     "metadata": {},
     "output_type": "execute_result"
    }
   ],
   "source": [
    "test_df = pd.read_pickle(ARTIFACTS_BASE + 'test_df.pkl')\n",
    "test_df['embedding'] = test_df['embedding']\n",
    "test_df.head()"
   ]
  },
  {
   "cell_type": "code",
   "execution_count": 11,
   "id": "5f470b7230aedf13",
   "metadata": {
    "ExecuteTime": {
     "end_time": "2024-09-27T21:03:06.742338Z",
     "start_time": "2024-09-27T21:02:22.327068Z"
    }
   },
   "outputs": [
    {
     "data": {
      "text/html": [
       "<div>\n",
       "<style scoped>\n",
       "    .dataframe tbody tr th:only-of-type {\n",
       "        vertical-align: middle;\n",
       "    }\n",
       "\n",
       "    .dataframe tbody tr th {\n",
       "        vertical-align: top;\n",
       "    }\n",
       "\n",
       "    .dataframe thead th {\n",
       "        text-align: right;\n",
       "    }\n",
       "</style>\n",
       "<table border=\"1\" class=\"dataframe\">\n",
       "  <thead>\n",
       "    <tr style=\"text-align: right;\">\n",
       "      <th></th>\n",
       "      <th>prompt</th>\n",
       "      <th>label</th>\n",
       "      <th>embedding</th>\n",
       "    </tr>\n",
       "  </thead>\n",
       "  <tbody>\n",
       "    <tr>\n",
       "      <th>0</th>\n",
       "      <td>My question is: Alani earned $45 for 3 hours o...</td>\n",
       "      <td>0</td>\n",
       "      <td>[-0.47111386, 0.7092997, -0.26865613, -0.34150...</td>\n",
       "    </tr>\n",
       "    <tr>\n",
       "      <th>1</th>\n",
       "      <td>Q: Yes / no, is the following a verifiable fac...</td>\n",
       "      <td>0</td>\n",
       "      <td>[0.46102738, 0.25961348, 0.30364105, -0.277400...</td>\n",
       "    </tr>\n",
       "    <tr>\n",
       "      <th>2</th>\n",
       "      <td>Read a code snippet and detect if there are an...</td>\n",
       "      <td>0</td>\n",
       "      <td>[-0.4469538, 0.44082227, -0.46384552, -0.48993...</td>\n",
       "    </tr>\n",
       "    <tr>\n",
       "      <th>3</th>\n",
       "      <td>As a highly advanced chatbot, it is your duty ...</td>\n",
       "      <td>1</td>\n",
       "      <td>[0.05731096, 0.44351056, 0.41152436, -0.321668...</td>\n",
       "    </tr>\n",
       "    <tr>\n",
       "      <th>4</th>\n",
       "      <td>Tell me the main idea of this paragraph.</td>\n",
       "      <td>0</td>\n",
       "      <td>[0.030675814, 0.5953852, 0.12635949, -0.506669...</td>\n",
       "    </tr>\n",
       "  </tbody>\n",
       "</table>\n",
       "</div>"
      ],
      "text/plain": [
       "                                              prompt  label  \\\n",
       "0  My question is: Alani earned $45 for 3 hours o...      0   \n",
       "1  Q: Yes / no, is the following a verifiable fac...      0   \n",
       "2  Read a code snippet and detect if there are an...      0   \n",
       "3  As a highly advanced chatbot, it is your duty ...      1   \n",
       "4           Tell me the main idea of this paragraph.      0   \n",
       "\n",
       "                                           embedding  \n",
       "0  [-0.47111386, 0.7092997, -0.26865613, -0.34150...  \n",
       "1  [0.46102738, 0.25961348, 0.30364105, -0.277400...  \n",
       "2  [-0.4469538, 0.44082227, -0.46384552, -0.48993...  \n",
       "3  [0.05731096, 0.44351056, 0.41152436, -0.321668...  \n",
       "4  [0.030675814, 0.5953852, 0.12635949, -0.506669...  "
      ]
     },
     "execution_count": 11,
     "metadata": {},
     "output_type": "execute_result"
    }
   ],
   "source": [
    "train_df = pd.read_pickle(ARTIFACTS_BASE + 'train_df.pkl')\n",
    "train_df['embedding'] = train_df['embedding']\n",
    "train_df.head()"
   ]
  },
  {
   "cell_type": "markdown",
   "id": "54a02863c0dfe363",
   "metadata": {},
   "source": [
    "Prepare loaded dataset for metrics counting"
   ]
  },
  {
   "cell_type": "code",
   "execution_count": 12,
   "id": "4d7f6c3cacb949c4",
   "metadata": {
    "ExecuteTime": {
     "end_time": "2024-09-27T21:03:09.243310Z",
     "start_time": "2024-09-27T21:03:09.107902Z"
    }
   },
   "outputs": [],
   "source": [
    "X_test = pd.DataFrame(np.array(test_df['embedding'].to_list()))\n",
    "y_test = test_df[\"label\"]"
   ]
  },
  {
   "cell_type": "code",
   "execution_count": 13,
   "id": "c9fb41e4deec4e09",
   "metadata": {
    "ExecuteTime": {
     "end_time": "2024-09-27T21:03:10.972159Z",
     "start_time": "2024-09-27T21:03:09.894493Z"
    }
   },
   "outputs": [],
   "source": [
    "X_train = pd.DataFrame(np.array(train_df['embedding'].to_list()))\n",
    "y_train = train_df[\"label\"]"
   ]
  },
  {
   "cell_type": "code",
   "execution_count": 14,
   "id": "745ac49c8c3fc665",
   "metadata": {
    "ExecuteTime": {
     "end_time": "2024-09-27T21:03:12.185711Z",
     "start_time": "2024-09-27T21:03:12.178183Z"
    }
   },
   "outputs": [
    {
     "name": "stdout",
     "output_type": "stream",
     "text": [
      "#Training Samples: 261738\n",
      "#Testing Samples: 65416\n"
     ]
    }
   ],
   "source": [
    "# Check number of training and testing samples\n",
    "print(f\"#Training Samples: {len(X_train)}\")\n",
    "print(f\"#Testing Samples: {len(X_test)}\")"
   ]
  },
  {
   "cell_type": "code",
   "execution_count": 15,
   "id": "a37ba621798a99ea",
   "metadata": {
    "ExecuteTime": {
     "end_time": "2024-09-27T21:28:25.327498Z",
     "start_time": "2024-09-27T21:28:25.324005Z"
    }
   },
   "outputs": [],
   "source": [
    "# Import classification models\n",
    "from sklearn.naive_bayes import GaussianNB\n",
    "from sklearn.linear_model import LogisticRegression\n",
    "from sklearn import svm\n",
    "from sklearn.ensemble import RandomForestClassifier\n",
    "import lightgbm as lgb\n",
    "from sklearn.neural_network import MLPClassifier\n",
    "\n",
    "# Initialize estimators using their default parameters\n",
    "estimators = [\n",
    "    (\"Naive Bayes\", GaussianNB()),\n",
    "    (\"LGB Classifier\", lgb.LGBMClassifier()),\n",
    "    (\"Random Forest\", RandomForestClassifier(n_estimators=100, max_depth=10, n_jobs=-1)),\n",
    "    (\"MLPClassifier\", MLPClassifier(hidden_layer_sizes=(100,), activation='relu', solver='adam', random_state=42)),\n",
    "]"
   ]
  },
  {
   "cell_type": "code",
   "execution_count": 21,
   "id": "e13dbc58ae408377",
   "metadata": {
    "ExecuteTime": {
     "end_time": "2024-09-27T21:32:25.522029Z",
     "start_time": "2024-09-27T21:28:26.890576Z"
    }
   },
   "outputs": [
    {
     "name": "stdout",
     "output_type": "stream",
     "text": [
      "[LightGBM] [Info] Number of positive: 129232, number of negative: 132506\n",
      "[LightGBM] [Info] Auto-choosing col-wise multi-threading, the overhead of testing was 0.507995 seconds.\n",
      "You can set `force_col_wise=true` to remove the overhead.\n",
      "[LightGBM] [Info] Total Bins 195840\n",
      "[LightGBM] [Info] Number of data points in the train set: 261738, number of used features: 768\n",
      "[LightGBM] [Info] [binary:BoostFromScore]: pavg=0.493746 -> initscore=-0.025019\n",
      "[LightGBM] [Info] Start training from score -0.025019\n"
     ]
    },
    {
     "name": "stderr",
     "output_type": "stream",
     "text": [
      "/usr/local/lib/python3.11/dist-packages/sklearn/neural_network/_multilayer_perceptron.py:690: ConvergenceWarning: Stochastic Optimizer: Maximum iterations (200) reached and the optimization hasn't converged yet.\n",
      "  warnings.warn(\n"
     ]
    }
   ],
   "source": [
    "# Import performance metrics libraries\n",
    "from sklearn.metrics import accuracy_score, precision_score, recall_score, f1_score\n",
    "\n",
    "# Prepare a DataFrame to keep track of the models' performance\n",
    "results = pd.DataFrame(columns=[\"accuracy\", \"precision\", \"recall\", \"f1 score\"])\n",
    "\n",
    "# Iterate through each estimator in the list\n",
    "for est_name, est_obj in estimators:\n",
    "\n",
    "    if hasattr(est_obj, 'to'):\n",
    "        est_obj.to(device)  # Move model to GPU if supported\n",
    "    \n",
    "    # Fit the model\n",
    "    est_obj.fit(X_train, y_train)\n",
    "    \n",
    "    # Use the model to predict unseen prompts\n",
    "    y_predict = est_obj.predict(X_test)\n",
    "    \n",
    "    # Calculate performance metrics\n",
    "    accuracy = accuracy_score(y_test, y_predict)\n",
    "    precision = precision_score(y_test, y_predict)\n",
    "    recall = recall_score(y_test, y_predict)\n",
    "    f1 = f1_score(y_test, y_predict)  \n",
    "    \n",
    "    # Store performance metrics\n",
    "    results.loc[est_name] = [accuracy, precision, recall, f1]"
   ]
  },
  {
   "cell_type": "code",
   "execution_count": 22,
   "id": "ffafcb061bf5b875",
   "metadata": {
    "ExecuteTime": {
     "end_time": "2024-09-27T21:33:12.710075Z",
     "start_time": "2024-09-27T21:33:12.703773Z"
    }
   },
   "outputs": [
    {
     "data": {
      "text/html": [
       "<div>\n",
       "<style scoped>\n",
       "    .dataframe tbody tr th:only-of-type {\n",
       "        vertical-align: middle;\n",
       "    }\n",
       "\n",
       "    .dataframe tbody tr th {\n",
       "        vertical-align: top;\n",
       "    }\n",
       "\n",
       "    .dataframe thead th {\n",
       "        text-align: right;\n",
       "    }\n",
       "</style>\n",
       "<table border=\"1\" class=\"dataframe\">\n",
       "  <thead>\n",
       "    <tr style=\"text-align: right;\">\n",
       "      <th></th>\n",
       "      <th>accuracy</th>\n",
       "      <th>precision</th>\n",
       "      <th>recall</th>\n",
       "      <th>f1 score</th>\n",
       "    </tr>\n",
       "  </thead>\n",
       "  <tbody>\n",
       "    <tr>\n",
       "      <th>Naive Bayes</th>\n",
       "      <td>0.696114</td>\n",
       "      <td>0.674756</td>\n",
       "      <td>0.742181</td>\n",
       "      <td>0.706864</td>\n",
       "    </tr>\n",
       "    <tr>\n",
       "      <th>LGB Classifier</th>\n",
       "      <td>0.931638</td>\n",
       "      <td>0.934041</td>\n",
       "      <td>0.926983</td>\n",
       "      <td>0.930499</td>\n",
       "    </tr>\n",
       "    <tr>\n",
       "      <th>Random Forest</th>\n",
       "      <td>0.889996</td>\n",
       "      <td>0.878119</td>\n",
       "      <td>0.902428</td>\n",
       "      <td>0.890107</td>\n",
       "    </tr>\n",
       "    <tr>\n",
       "      <th>MLPClassifier</th>\n",
       "      <td>0.977544</td>\n",
       "      <td>0.975445</td>\n",
       "      <td>0.979160</td>\n",
       "      <td>0.977299</td>\n",
       "    </tr>\n",
       "  </tbody>\n",
       "</table>\n",
       "</div>"
      ],
      "text/plain": [
       "                accuracy  precision    recall  f1 score\n",
       "Naive Bayes     0.696114   0.674756  0.742181  0.706864\n",
       "LGB Classifier  0.931638   0.934041  0.926983  0.930499\n",
       "Random Forest   0.889996   0.878119  0.902428  0.890107\n",
       "MLPClassifier   0.977544   0.975445  0.979160  0.977299"
      ]
     },
     "execution_count": 22,
     "metadata": {},
     "output_type": "execute_result"
    }
   ],
   "source": [
    "results"
   ]
  },
  {
   "cell_type": "code",
   "execution_count": null,
   "id": "cc95c055-9e6c-49e5-bdc2-d1fcfd487310",
   "metadata": {},
   "outputs": [],
   "source": []
  }
 ],
 "metadata": {
  "kernelspec": {
   "display_name": "Python 3 (ipykernel)",
   "language": "python",
   "name": "python3"
  },
  "language_info": {
   "codemirror_mode": {
    "name": "ipython",
    "version": 3
   },
   "file_extension": ".py",
   "mimetype": "text/x-python",
   "name": "python",
   "nbconvert_exporter": "python",
   "pygments_lexer": "ipython3",
   "version": "3.11.10"
  }
 },
 "nbformat": 4,
 "nbformat_minor": 5
}
