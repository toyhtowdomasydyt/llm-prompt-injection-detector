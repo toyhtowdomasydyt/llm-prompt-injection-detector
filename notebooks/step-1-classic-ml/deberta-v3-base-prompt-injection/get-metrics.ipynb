{
 "cells": [
  {
   "cell_type": "markdown",
   "id": "99132ca0588dab7",
   "metadata": {},
   "source": [
    "Setup PyTorch to use best hardware option"
   ]
  },
  {
   "cell_type": "code",
   "execution_count": null,
   "id": "initial_id",
   "metadata": {
    "ExecuteTime": {
     "end_time": "2024-09-27T21:01:48.411119Z",
     "start_time": "2024-09-27T21:01:47.625067Z"
    },
    "collapsed": true
   },
   "outputs": [],
   "source": [
    "import torch\n",
    "\n",
    "if torch.backends.mps.is_available():\n",
    "    device = torch.device(\"mps\")\n",
    "elif torch.cuda.is_available():\n",
    "    device = torch.device(\"cuda\")\n",
    "else:\n",
    "    device = torch.device(\"cpu\")\n",
    "\n",
    "print(device)"
   ]
  },
  {
   "cell_type": "markdown",
   "id": "268def2a29726137",
   "metadata": {},
   "source": [
    "Get model and tokenizer from Hugginface"
   ]
  },
  {
   "cell_type": "code",
   "execution_count": 2,
   "id": "a83a5a1fb9cbc8bd",
   "metadata": {
    "ExecuteTime": {
     "end_time": "2024-09-27T21:01:53.944874Z",
     "start_time": "2024-09-27T21:01:52.109354Z"
    }
   },
   "outputs": [],
   "source": [
    "from transformers import DebertaV2Tokenizer, DebertaV2Model\n",
    "\n",
    "model_name = \"protectai/deberta-v3-base-prompt-injection\"\n",
    "tokenizer = DebertaV2Tokenizer.from_pretrained(model_name, clean_up_tokenization_spaces=False, use_fast=True)\n",
    "model = DebertaV2Model.from_pretrained(model_name).to(device)"
   ]
  },
  {
   "cell_type": "markdown",
   "id": "751ee7cd65074c85",
   "metadata": {},
   "source": [
    "Dataset load"
   ]
  },
  {
   "cell_type": "code",
   "execution_count": 4,
   "id": "4b4a04657f292698",
   "metadata": {
    "ExecuteTime": {
     "end_time": "2024-09-27T21:02:06.399182Z",
     "start_time": "2024-09-27T21:02:06.396580Z"
    }
   },
   "outputs": [],
   "source": [
    "import pandas as pd\n",
    "import swifter"
   ]
  },
  {
   "cell_type": "code",
   "execution_count": 5,
   "id": "62e1e032ce12ff46",
   "metadata": {
    "ExecuteTime": {
     "end_time": "2024-09-27T21:02:07.970153Z",
     "start_time": "2024-09-27T21:02:07.967459Z"
    }
   },
   "outputs": [],
   "source": [
    "ARTIFACTS_BASE = '../../artifacts/step-1-classic-ml/deberta-v3-base-prompt-injection'"
   ]
  },
  {
   "cell_type": "code",
   "execution_count": 6,
   "id": "b49e0f771d5127c6",
   "metadata": {
    "ExecuteTime": {
     "end_time": "2024-09-27T21:02:09.730874Z",
     "start_time": "2024-09-27T21:02:09.728072Z"
    }
   },
   "outputs": [],
   "source": [
    "# Function to convert string representation of vector to list of floats\n",
    "import numpy as np\n",
    "\n",
    "def convert_to_float_list(s):\n",
    "    s = s.strip('[]')\n",
    "    return np.array(s.split(), dtype=float)"
   ]
  },
  {
   "cell_type": "code",
   "execution_count": null,
   "id": "75cd844f329c9294",
   "metadata": {
    "ExecuteTime": {
     "end_time": "2024-09-27T21:02:22.305383Z",
     "start_time": "2024-09-27T21:02:11.329596Z"
    }
   },
   "outputs": [],
   "source": [
    "test_df = pd.read_pickle(ARTIFACTS_BASE + 'test_df.pkl')\n",
    "test_df['embedding'] = test_df['embedding']\n",
    "test_df.head()"
   ]
  },
  {
   "cell_type": "code",
   "execution_count": null,
   "id": "5f470b7230aedf13",
   "metadata": {
    "ExecuteTime": {
     "end_time": "2024-09-27T21:03:06.742338Z",
     "start_time": "2024-09-27T21:02:22.327068Z"
    }
   },
   "outputs": [],
   "source": [
    "train_df = pd.read_pickle(ARTIFACTS_BASE + 'train_df.pkl')\n",
    "train_df['embedding'] = train_df['embedding']\n",
    "train_df.head()"
   ]
  },
  {
   "cell_type": "markdown",
   "id": "54a02863c0dfe363",
   "metadata": {},
   "source": [
    "Prepare loaded dataset for metrics counting"
   ]
  },
  {
   "cell_type": "code",
   "execution_count": 9,
   "id": "4d7f6c3cacb949c4",
   "metadata": {
    "ExecuteTime": {
     "end_time": "2024-09-27T21:03:09.243310Z",
     "start_time": "2024-09-27T21:03:09.107902Z"
    }
   },
   "outputs": [],
   "source": [
    "X_test = pd.DataFrame(np.array(test_df['embedding'].to_list()))\n",
    "y_test = test_df[\"label\"]"
   ]
  },
  {
   "cell_type": "code",
   "execution_count": 10,
   "id": "c9fb41e4deec4e09",
   "metadata": {
    "ExecuteTime": {
     "end_time": "2024-09-27T21:03:10.972159Z",
     "start_time": "2024-09-27T21:03:09.894493Z"
    }
   },
   "outputs": [],
   "source": [
    "X_train = pd.DataFrame(np.array(train_df['embedding'].to_list()))\n",
    "y_train = train_df[\"label\"]"
   ]
  },
  {
   "cell_type": "code",
   "execution_count": null,
   "id": "745ac49c8c3fc665",
   "metadata": {
    "ExecuteTime": {
     "end_time": "2024-09-27T21:03:12.185711Z",
     "start_time": "2024-09-27T21:03:12.178183Z"
    }
   },
   "outputs": [],
   "source": [
    "# Check number of training and testing samples\n",
    "print(f\"#Training Samples: {len(X_train)}\")\n",
    "print(f\"#Testing Samples: {len(X_test)}\")"
   ]
  },
  {
   "cell_type": "code",
   "execution_count": 22,
   "id": "a37ba621798a99ea",
   "metadata": {
    "ExecuteTime": {
     "end_time": "2024-09-27T21:28:25.327498Z",
     "start_time": "2024-09-27T21:28:25.324005Z"
    }
   },
   "outputs": [],
   "source": [
    "# Import classification models\n",
    "from sklearn.naive_bayes import GaussianNB\n",
    "from sklearn.linear_model import LogisticRegression\n",
    "from sklearn import svm\n",
    "from sklearn.ensemble import RandomForestClassifier\n",
    "import lightgbm as lgb\n",
    "from sklearn.neural_network import MLPClassifier\n",
    "\n",
    "# Initialize estimators using their default parameters\n",
    "estimators = [\n",
    "    (\"Naive Bayes\", GaussianNB()),\n",
    "    (\"LGB Classifier\", lgb.LGBMClassifier()),\n",
    "    (\"Random Forest\", RandomForestClassifier(n_estimators=100, max_depth=10, n_jobs=-1)),\n",
    "    (\"MLPClassifier\", MLPClassifier(hidden_layer_sizes=(100,), activation='relu', solver='adam', random_state=42)),\n",
    "]"
   ]
  },
  {
   "cell_type": "code",
   "execution_count": null,
   "id": "e13dbc58ae408377",
   "metadata": {
    "ExecuteTime": {
     "end_time": "2024-09-27T21:32:25.522029Z",
     "start_time": "2024-09-27T21:28:26.890576Z"
    }
   },
   "outputs": [],
   "source": [
    "# Import performance metrics libraries\n",
    "from sklearn.metrics import accuracy_score, precision_score, recall_score, f1_score\n",
    "\n",
    "# Prepare a DataFrame to keep track of the models' performance\n",
    "results = pd.DataFrame(columns=[\"accuracy\", \"precision\", \"recall\", \"f1 score\"])\n",
    "\n",
    "# Iterate through each estimator in the list\n",
    "for est_name, est_obj in estimators:\n",
    "    \n",
    "    # Fit the model\n",
    "    est_obj.fit(X_train, y_train)\n",
    "    \n",
    "    # Use the model to predict unseen prompts\n",
    "    y_predict = est_obj.predict(X_test)\n",
    "    \n",
    "    # Calculate performance metrics\n",
    "    accuracy = accuracy_score(y_test, y_predict)\n",
    "    precision = precision_score(y_test, y_predict)\n",
    "    recall = recall_score(y_test, y_predict)\n",
    "    f1 = f1_score(y_test, y_predict)  \n",
    "    \n",
    "    # Store performance metrics\n",
    "    results.loc[est_name] = [accuracy, precision, recall, f1]"
   ]
  },
  {
   "cell_type": "code",
   "execution_count": null,
   "id": "ffafcb061bf5b875",
   "metadata": {
    "ExecuteTime": {
     "end_time": "2024-09-27T21:33:12.710075Z",
     "start_time": "2024-09-27T21:33:12.703773Z"
    }
   },
   "outputs": [],
   "source": [
    "results"
   ]
  }
 ],
 "metadata": {
  "kernelspec": {
   "display_name": "Python 3",
   "language": "python",
   "name": "python3"
  },
  "language_info": {
   "codemirror_mode": {
    "name": "ipython",
    "version": 2
   },
   "file_extension": ".py",
   "mimetype": "text/x-python",
   "name": "python",
   "nbconvert_exporter": "python",
   "pygments_lexer": "ipython2",
   "version": "2.7.6"
  }
 },
 "nbformat": 4,
 "nbformat_minor": 5
}
