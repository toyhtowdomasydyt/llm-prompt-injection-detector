{
 "cells": [
  {
   "cell_type": "markdown",
   "id": "99132ca0588dab7",
   "metadata": {},
   "source": [
    "Setup PyTorch to use best hardware option"
   ]
  },
  {
   "cell_type": "code",
   "execution_count": 1,
   "id": "initial_id",
   "metadata": {
    "ExecuteTime": {
     "end_time": "2024-09-27T21:01:48.411119Z",
     "start_time": "2024-09-27T21:01:47.625067Z"
    }
   },
   "outputs": [
    {
     "name": "stdout",
     "output_type": "stream",
     "text": [
      "cuda\n"
     ]
    }
   ],
   "source": [
    "import torch\n",
    "\n",
    "if torch.backends.mps.is_available():\n",
    "    device = torch.device(\"mps\")\n",
    "elif torch.cuda.is_available():\n",
    "    device = torch.device(\"cuda\")\n",
    "else:\n",
    "    device = torch.device(\"cpu\")\n",
    "\n",
    "print(device)"
   ]
  },
  {
   "cell_type": "markdown",
   "id": "268def2a29726137",
   "metadata": {},
   "source": [
    "Get model and tokenizer from Hugginface"
   ]
  },
  {
   "cell_type": "code",
   "execution_count": 2,
   "id": "a83a5a1fb9cbc8bd",
   "metadata": {
    "ExecuteTime": {
     "end_time": "2024-09-27T21:01:53.944874Z",
     "start_time": "2024-09-27T21:01:52.109354Z"
    }
   },
   "outputs": [
    {
     "data": {
      "text/plain": [
       "DebertaV2Model(\n",
       "  (embeddings): DebertaV2Embeddings(\n",
       "    (word_embeddings): Embedding(128100, 768, padding_idx=0)\n",
       "    (LayerNorm): LayerNorm((768,), eps=1e-07, elementwise_affine=True)\n",
       "    (dropout): StableDropout()\n",
       "  )\n",
       "  (encoder): DebertaV2Encoder(\n",
       "    (layer): ModuleList(\n",
       "      (0-11): 12 x DebertaV2Layer(\n",
       "        (attention): DebertaV2Attention(\n",
       "          (self): DisentangledSelfAttention(\n",
       "            (query_proj): Linear(in_features=768, out_features=768, bias=True)\n",
       "            (key_proj): Linear(in_features=768, out_features=768, bias=True)\n",
       "            (value_proj): Linear(in_features=768, out_features=768, bias=True)\n",
       "            (pos_dropout): StableDropout()\n",
       "            (dropout): StableDropout()\n",
       "          )\n",
       "          (output): DebertaV2SelfOutput(\n",
       "            (dense): Linear(in_features=768, out_features=768, bias=True)\n",
       "            (LayerNorm): LayerNorm((768,), eps=1e-07, elementwise_affine=True)\n",
       "            (dropout): StableDropout()\n",
       "          )\n",
       "        )\n",
       "        (intermediate): DebertaV2Intermediate(\n",
       "          (dense): Linear(in_features=768, out_features=3072, bias=True)\n",
       "          (intermediate_act_fn): GELUActivation()\n",
       "        )\n",
       "        (output): DebertaV2Output(\n",
       "          (dense): Linear(in_features=3072, out_features=768, bias=True)\n",
       "          (LayerNorm): LayerNorm((768,), eps=1e-07, elementwise_affine=True)\n",
       "          (dropout): StableDropout()\n",
       "        )\n",
       "      )\n",
       "    )\n",
       "    (rel_embeddings): Embedding(512, 768)\n",
       "    (LayerNorm): LayerNorm((768,), eps=1e-07, elementwise_affine=True)\n",
       "  )\n",
       ")"
      ]
     },
     "execution_count": 2,
     "metadata": {},
     "output_type": "execute_result"
    }
   ],
   "source": [
    "from transformers import DebertaV2Tokenizer, DebertaV2Model\n",
    "\n",
    "model_name = \"microsoft/deberta-v3-base\"\n",
    "tokenizer = DebertaV2Tokenizer.from_pretrained(model_name, clean_up_tokenization_spaces=False, use_fast=True)\n",
    "model = DebertaV2Model.from_pretrained(model_name).to(device)\n",
    "model.eval()"
   ]
  },
  {
   "cell_type": "markdown",
   "id": "751ee7cd65074c85",
   "metadata": {},
   "source": [
    "Dataset load"
   ]
  },
  {
   "cell_type": "code",
   "execution_count": 3,
   "id": "62e1e032ce12ff46",
   "metadata": {
    "ExecuteTime": {
     "end_time": "2024-09-27T21:02:07.970153Z",
     "start_time": "2024-09-27T21:02:07.967459Z"
    }
   },
   "outputs": [],
   "source": [
    "ARTIFACTS_BASE = '../../../artifacts'"
   ]
  },
  {
   "cell_type": "code",
   "execution_count": 4,
   "id": "75cd844f329c9294",
   "metadata": {
    "ExecuteTime": {
     "end_time": "2024-09-27T21:02:22.305383Z",
     "start_time": "2024-09-27T21:02:11.329596Z"
    }
   },
   "outputs": [],
   "source": [
    "from os import path\n",
    "from datasets import load_from_disk\n",
    "\n",
    "dataset_path = path.join(ARTIFACTS_BASE, 'step-1-classic-ml', 'deberta-v3-base')\n",
    "\n",
    "train_dataset = load_from_disk(path.join(dataset_path, 'train'))\n",
    "test_dataset = load_from_disk(path.join(dataset_path, 'test'))"
   ]
  },
  {
   "cell_type": "markdown",
   "id": "54a02863c0dfe363",
   "metadata": {},
   "source": [
    "Prepare loaded dataset for metrics counting"
   ]
  },
  {
   "cell_type": "code",
   "execution_count": 7,
   "id": "4d7f6c3cacb949c4",
   "metadata": {
    "ExecuteTime": {
     "end_time": "2024-09-27T21:03:09.243310Z",
     "start_time": "2024-09-27T21:03:09.107902Z"
    }
   },
   "outputs": [],
   "source": [
    "import numpy as np\n",
    "\n",
    "X_test_embedding_list = np.array(test_dataset[\"embedding\"])\n",
    "y_test_label_list = np.array(test_dataset[\"label\"])\n",
    "\n",
    "X_train_embedding_list = np.array(train_dataset[\"embedding\"])\n",
    "y_train_label_list = np.array(train_dataset[\"label\"])"
   ]
  },
  {
   "cell_type": "code",
   "execution_count": 8,
   "id": "745ac49c8c3fc665",
   "metadata": {
    "ExecuteTime": {
     "end_time": "2024-09-27T21:03:12.185711Z",
     "start_time": "2024-09-27T21:03:12.178183Z"
    }
   },
   "outputs": [
    {
     "name": "stdout",
     "output_type": "stream",
     "text": [
      "#Training Samples: 261738\n",
      "#Testing Samples: 65416\n"
     ]
    }
   ],
   "source": [
    "# Check number of training and testing samples\n",
    "print(f\"#Training Samples: {len(X_train_embedding_list)}\")\n",
    "print(f\"#Testing Samples: {len(X_test_embedding_list)}\")"
   ]
  },
  {
   "cell_type": "code",
   "execution_count": 9,
   "id": "a37ba621798a99ea",
   "metadata": {
    "ExecuteTime": {
     "end_time": "2024-09-27T21:28:25.327498Z",
     "start_time": "2024-09-27T21:28:25.324005Z"
    }
   },
   "outputs": [],
   "source": [
    "# Import classification models\n",
    "from sklearn.naive_bayes import GaussianNB\n",
    "from sklearn.linear_model import LogisticRegression\n",
    "from sklearn import svm\n",
    "from sklearn.ensemble import RandomForestClassifier\n",
    "import lightgbm as lgb\n",
    "from sklearn.neural_network import MLPClassifier\n",
    "\n",
    "# Initialize estimators using their default parameters\n",
    "estimators = [\n",
    "    (\"Naive Bayes\", GaussianNB()),\n",
    "    (\"LGB Classifier\", lgb.LGBMClassifier()),\n",
    "    (\"Random Forest\", RandomForestClassifier(n_estimators=100, max_depth=10, n_jobs=-1)),\n",
    "    (\"MLPClassifier\", MLPClassifier(hidden_layer_sizes=(100,), activation='relu', solver='adam', random_state=42)),\n",
    "]"
   ]
  },
  {
   "cell_type": "code",
   "execution_count": 10,
   "id": "e13dbc58ae408377",
   "metadata": {
    "ExecuteTime": {
     "end_time": "2024-09-27T21:32:25.522029Z",
     "start_time": "2024-09-27T21:28:26.890576Z"
    }
   },
   "outputs": [
    {
     "name": "stderr",
     "output_type": "stream",
     "text": [
      "Calculate metrics:  25%|██▌       | 1/4 [00:04<00:12,  4.04s/it]"
     ]
    },
    {
     "name": "stdout",
     "output_type": "stream",
     "text": [
      "[LightGBM] [Info] Number of positive: 129232, number of negative: 132506\n",
      "[LightGBM] [Info] Auto-choosing col-wise multi-threading, the overhead of testing was 1.725354 seconds.\n",
      "You can set `force_col_wise=true` to remove the overhead.\n",
      "[LightGBM] [Info] Total Bins 195840\n",
      "[LightGBM] [Info] Number of data points in the train set: 261738, number of used features: 768\n",
      "[LightGBM] [Info] [binary:BoostFromScore]: pavg=0.493746 -> initscore=-0.025019\n",
      "[LightGBM] [Info] Start training from score -0.025019\n"
     ]
    },
    {
     "name": "stderr",
     "output_type": "stream",
     "text": [
      "Calculate metrics:  75%|███████▌  | 3/4 [03:17<01:22, 82.19s/it]/usr/local/lib/python3.11/dist-packages/sklearn/neural_network/_multilayer_perceptron.py:697: UserWarning: Training interrupted by user.\n",
      "  warnings.warn(\"Training interrupted by user.\")\n",
      "Calculate metrics: 100%|██████████| 4/4 [2:12:23<00:00, 1985.79s/it]\n"
     ]
    }
   ],
   "source": [
    "# Import performance metrics libraries\n",
    "import pandas as pd\n",
    "from sklearn.metrics import accuracy_score, precision_score, recall_score, f1_score\n",
    "from tqdm import tqdm\n",
    "\n",
    "# Prepare a DataFrame to keep track of the models' performance\n",
    "results = pd.DataFrame(columns=[\"accuracy\", \"precision\", \"recall\", \"f1 score\"])\n",
    "\n",
    "# Iterate through each estimator in the list\n",
    "for est_name, est_obj in tqdm(desc='Calculate metrics', iterable=estimators):\n",
    "\n",
    "    if hasattr(est_obj, 'to'):\n",
    "        est_obj.to(device)  # Move model to GPU if supported\n",
    "    \n",
    "    # Fit the model\n",
    "    est_obj.fit(X_train_embedding_list, y_train_label_list)\n",
    "    \n",
    "    # Use the model to predict unseen prompts\n",
    "    y_predict = est_obj.predict(X_test_embedding_list)\n",
    "    \n",
    "    # Calculate performance metrics\n",
    "    accuracy = accuracy_score(y_test_label_list, y_predict)\n",
    "    precision = precision_score(y_test_label_list, y_predict)\n",
    "    recall = recall_score(y_test_label_list, y_predict)\n",
    "    f1 = f1_score(y_test_label_list, y_predict)  \n",
    "    \n",
    "    # Store performance metrics\n",
    "    results.loc[est_name] = [accuracy, precision, recall, f1]"
   ]
  },
  {
   "cell_type": "code",
   "execution_count": 11,
   "id": "ffafcb061bf5b875",
   "metadata": {
    "ExecuteTime": {
     "end_time": "2024-09-27T21:33:12.710075Z",
     "start_time": "2024-09-27T21:33:12.703773Z"
    }
   },
   "outputs": [
    {
     "data": {
      "text/html": [
       "<div>\n",
       "<style scoped>\n",
       "    .dataframe tbody tr th:only-of-type {\n",
       "        vertical-align: middle;\n",
       "    }\n",
       "\n",
       "    .dataframe tbody tr th {\n",
       "        vertical-align: top;\n",
       "    }\n",
       "\n",
       "    .dataframe thead th {\n",
       "        text-align: right;\n",
       "    }\n",
       "</style>\n",
       "<table border=\"1\" class=\"dataframe\">\n",
       "  <thead>\n",
       "    <tr style=\"text-align: right;\">\n",
       "      <th></th>\n",
       "      <th>accuracy</th>\n",
       "      <th>precision</th>\n",
       "      <th>recall</th>\n",
       "      <th>f1 score</th>\n",
       "    </tr>\n",
       "  </thead>\n",
       "  <tbody>\n",
       "    <tr>\n",
       "      <th>Naive Bayes</th>\n",
       "      <td>0.600373</td>\n",
       "      <td>0.575193</td>\n",
       "      <td>0.728618</td>\n",
       "      <td>0.642879</td>\n",
       "    </tr>\n",
       "    <tr>\n",
       "      <th>LGB Classifier</th>\n",
       "      <td>0.904152</td>\n",
       "      <td>0.871793</td>\n",
       "      <td>0.944789</td>\n",
       "      <td>0.906824</td>\n",
       "    </tr>\n",
       "    <tr>\n",
       "      <th>Random Forest</th>\n",
       "      <td>0.830699</td>\n",
       "      <td>0.780045</td>\n",
       "      <td>0.915093</td>\n",
       "      <td>0.842189</td>\n",
       "    </tr>\n",
       "    <tr>\n",
       "      <th>MLPClassifier</th>\n",
       "      <td>0.967944</td>\n",
       "      <td>0.985998</td>\n",
       "      <td>0.948535</td>\n",
       "      <td>0.966904</td>\n",
       "    </tr>\n",
       "  </tbody>\n",
       "</table>\n",
       "</div>"
      ],
      "text/plain": [
       "                accuracy  precision    recall  f1 score\n",
       "Naive Bayes     0.600373   0.575193  0.728618  0.642879\n",
       "LGB Classifier  0.904152   0.871793  0.944789  0.906824\n",
       "Random Forest   0.830699   0.780045  0.915093  0.842189\n",
       "MLPClassifier   0.967944   0.985998  0.948535  0.966904"
      ]
     },
     "execution_count": 11,
     "metadata": {},
     "output_type": "execute_result"
    }
   ],
   "source": [
    "results"
   ]
  },
  {
   "cell_type": "code",
   "execution_count": null,
   "id": "2fd0ecbe-4852-4f8f-b4aa-e62bfc34bd2c",
   "metadata": {},
   "outputs": [],
   "source": []
  }
 ],
 "metadata": {
  "kernelspec": {
   "display_name": "Python 3 (ipykernel)",
   "language": "python",
   "name": "python3"
  },
  "language_info": {
   "codemirror_mode": {
    "name": "ipython",
    "version": 3
   },
   "file_extension": ".py",
   "mimetype": "text/x-python",
   "name": "python",
   "nbconvert_exporter": "python",
   "pygments_lexer": "ipython3",
   "version": "3.11.10"
  }
 },
 "nbformat": 4,
 "nbformat_minor": 5
}
