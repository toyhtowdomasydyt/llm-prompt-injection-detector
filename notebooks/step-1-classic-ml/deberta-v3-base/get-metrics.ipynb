{
 "cells": [
  {
   "metadata": {},
   "cell_type": "markdown",
   "source": "Setup PyTorch to use best hardware option",
   "id": "99132ca0588dab7"
  },
  {
   "cell_type": "code",
   "id": "initial_id",
   "metadata": {
    "collapsed": true,
    "ExecuteTime": {
     "end_time": "2024-09-27T21:01:48.411119Z",
     "start_time": "2024-09-27T21:01:47.625067Z"
    }
   },
   "source": [
    "import torch\n",
    "\n",
    "if torch.backends.mps.is_available():\n",
    "    device = torch.device(\"mps\")\n",
    "elif torch.cuda.is_available():\n",
    "    device = torch.device(\"cuda\")\n",
    "else:\n",
    "    device = torch.device(\"cpu\")\n",
    "\n",
    "print(device)"
   ],
   "outputs": [
    {
     "name": "stdout",
     "output_type": "stream",
     "text": [
      "mps\n"
     ]
    }
   ],
   "execution_count": 1
  },
  {
   "metadata": {},
   "cell_type": "markdown",
   "source": "Get model and tokenizer from Hugginface",
   "id": "268def2a29726137"
  },
  {
   "metadata": {
    "ExecuteTime": {
     "end_time": "2024-09-27T21:01:53.944874Z",
     "start_time": "2024-09-27T21:01:52.109354Z"
    }
   },
   "cell_type": "code",
   "source": [
    "from transformers import DebertaV2Tokenizer, DebertaV2Model\n",
    "\n",
    "model_name = \"microsoft/deberta-v3-base\"\n",
    "tokenizer = DebertaV2Tokenizer.from_pretrained(model_name, clean_up_tokenization_spaces=False, use_fast=True)\n",
    "model = DebertaV2Model.from_pretrained(model_name).to(device)"
   ],
   "id": "a83a5a1fb9cbc8bd",
   "outputs": [],
   "execution_count": 2
  },
  {
   "metadata": {},
   "cell_type": "markdown",
   "source": "Dataset load",
   "id": "751ee7cd65074c85"
  },
  {
   "metadata": {
    "ExecuteTime": {
     "end_time": "2024-09-27T21:02:06.399182Z",
     "start_time": "2024-09-27T21:02:06.396580Z"
    }
   },
   "cell_type": "code",
   "source": [
    "import pandas as pd\n",
    "import swifter"
   ],
   "id": "4b4a04657f292698",
   "outputs": [],
   "execution_count": 4
  },
  {
   "metadata": {
    "ExecuteTime": {
     "end_time": "2024-09-27T21:02:07.970153Z",
     "start_time": "2024-09-27T21:02:07.967459Z"
    }
   },
   "cell_type": "code",
   "source": "ARTIFACTS_BASE = '../../artifacts/step-1/classic-ml-ms-deberta-v3-base/'",
   "id": "62e1e032ce12ff46",
   "outputs": [],
   "execution_count": 5
  },
  {
   "metadata": {
    "ExecuteTime": {
     "end_time": "2024-09-27T21:02:09.730874Z",
     "start_time": "2024-09-27T21:02:09.728072Z"
    }
   },
   "cell_type": "code",
   "source": [
    "# Function to convert string representation of vector to list of floats\n",
    "import numpy as np\n",
    "\n",
    "def convert_to_float_list(s):\n",
    "    s = s.strip('[]')\n",
    "    return np.array(s.split(), dtype=float)"
   ],
   "id": "b49e0f771d5127c6",
   "outputs": [],
   "execution_count": 6
  },
  {
   "metadata": {
    "ExecuteTime": {
     "end_time": "2024-09-27T21:02:22.305383Z",
     "start_time": "2024-09-27T21:02:11.329596Z"
    }
   },
   "cell_type": "code",
   "source": [
    "test_df = pd.read_csv(ARTIFACTS_BASE + 'test_df.csv')\n",
    "test_df['embedding'] = test_df['embedding'].swifter.apply(convert_to_float_list)\n",
    "test_df.head()"
   ],
   "id": "75cd844f329c9294",
   "outputs": [
    {
     "data": {
      "text/plain": [
       "Pandas Apply:   0%|          | 0/65416 [00:00<?, ?it/s]"
      ],
      "application/vnd.jupyter.widget-view+json": {
       "version_major": 2,
       "version_minor": 0,
       "model_id": "c974101315b84ec4b2364c0db0e17082"
      }
     },
     "metadata": {},
     "output_type": "display_data"
    },
    {
     "data": {
      "text/plain": [
       "                                              prompt  label  \\\n",
       "0  Task: Given a list of words, identify which wo...      0   \n",
       "1  So I was watching episode 11 of Dark Angel sea...      0   \n",
       "2  Given the sentence \"Lots of people standing on...      0   \n",
       "3  In this task, you are given the name of an Ind...      0   \n",
       "4  Task: Replace all the sentences that use \"i\" w...      0   \n",
       "\n",
       "                                           embedding  \n",
       "0  [0.0470528901, 0.128666952, 0.120663926, 0.011...  \n",
       "1  [-0.077564396, 0.109083176, 0.141840488, 0.140...  \n",
       "2  [0.0886795521, 0.168291405, -0.0653214753, 0.0...  \n",
       "3  [-0.00887174066, 0.0103212046, -0.156578302, 0...  \n",
       "4  [0.0129042789, 0.0639195219, -0.259266078, 0.2...  "
      ],
      "text/html": [
       "<div>\n",
       "<style scoped>\n",
       "    .dataframe tbody tr th:only-of-type {\n",
       "        vertical-align: middle;\n",
       "    }\n",
       "\n",
       "    .dataframe tbody tr th {\n",
       "        vertical-align: top;\n",
       "    }\n",
       "\n",
       "    .dataframe thead th {\n",
       "        text-align: right;\n",
       "    }\n",
       "</style>\n",
       "<table border=\"1\" class=\"dataframe\">\n",
       "  <thead>\n",
       "    <tr style=\"text-align: right;\">\n",
       "      <th></th>\n",
       "      <th>prompt</th>\n",
       "      <th>label</th>\n",
       "      <th>embedding</th>\n",
       "    </tr>\n",
       "  </thead>\n",
       "  <tbody>\n",
       "    <tr>\n",
       "      <th>0</th>\n",
       "      <td>Task: Given a list of words, identify which wo...</td>\n",
       "      <td>0</td>\n",
       "      <td>[0.0470528901, 0.128666952, 0.120663926, 0.011...</td>\n",
       "    </tr>\n",
       "    <tr>\n",
       "      <th>1</th>\n",
       "      <td>So I was watching episode 11 of Dark Angel sea...</td>\n",
       "      <td>0</td>\n",
       "      <td>[-0.077564396, 0.109083176, 0.141840488, 0.140...</td>\n",
       "    </tr>\n",
       "    <tr>\n",
       "      <th>2</th>\n",
       "      <td>Given the sentence \"Lots of people standing on...</td>\n",
       "      <td>0</td>\n",
       "      <td>[0.0886795521, 0.168291405, -0.0653214753, 0.0...</td>\n",
       "    </tr>\n",
       "    <tr>\n",
       "      <th>3</th>\n",
       "      <td>In this task, you are given the name of an Ind...</td>\n",
       "      <td>0</td>\n",
       "      <td>[-0.00887174066, 0.0103212046, -0.156578302, 0...</td>\n",
       "    </tr>\n",
       "    <tr>\n",
       "      <th>4</th>\n",
       "      <td>Task: Replace all the sentences that use \"i\" w...</td>\n",
       "      <td>0</td>\n",
       "      <td>[0.0129042789, 0.0639195219, -0.259266078, 0.2...</td>\n",
       "    </tr>\n",
       "  </tbody>\n",
       "</table>\n",
       "</div>"
      ]
     },
     "execution_count": 7,
     "metadata": {},
     "output_type": "execute_result"
    }
   ],
   "execution_count": 7
  },
  {
   "metadata": {
    "ExecuteTime": {
     "end_time": "2024-09-27T21:03:06.742338Z",
     "start_time": "2024-09-27T21:02:22.327068Z"
    }
   },
   "cell_type": "code",
   "source": [
    "train_df = pd.read_csv(ARTIFACTS_BASE + 'train_df.csv')\n",
    "train_df['embedding'] = train_df['embedding'].swifter.apply(convert_to_float_list)\n",
    "train_df.head()"
   ],
   "id": "5f470b7230aedf13",
   "outputs": [
    {
     "data": {
      "text/plain": [
       "Pandas Apply:   0%|          | 0/261738 [00:00<?, ?it/s]"
      ],
      "application/vnd.jupyter.widget-view+json": {
       "version_major": 2,
       "version_minor": 0,
       "model_id": "ba869ea5dbce4396b34dc4e72a5b657e"
      }
     },
     "metadata": {},
     "output_type": "display_data"
    },
    {
     "data": {
      "text/plain": [
       "                                              prompt  label  \\\n",
       "0  My question is: Alani earned $45 for 3 hours o...      0   \n",
       "1  Q: Yes / no, is the following a verifiable fac...      0   \n",
       "2  Read a code snippet and detect if there are an...      0   \n",
       "3  As a highly advanced chatbot, it is your duty ...      1   \n",
       "4           Tell me the main idea of this paragraph.      0   \n",
       "\n",
       "                                           embedding  \n",
       "0  [-0.0976323485, 0.15560329, 0.0484190285, -0.0...  \n",
       "1  [0.0271683801, 0.0977859125, -0.032584101, -0....  \n",
       "2  [-0.00371995103, 0.226242572, 0.0596871153, 0....  \n",
       "3  [0.276234031, 0.0609874725, -0.398053914, 0.04...  \n",
       "4  [-0.0443628579, 0.187087953, -0.0733531415, -0...  "
      ],
      "text/html": [
       "<div>\n",
       "<style scoped>\n",
       "    .dataframe tbody tr th:only-of-type {\n",
       "        vertical-align: middle;\n",
       "    }\n",
       "\n",
       "    .dataframe tbody tr th {\n",
       "        vertical-align: top;\n",
       "    }\n",
       "\n",
       "    .dataframe thead th {\n",
       "        text-align: right;\n",
       "    }\n",
       "</style>\n",
       "<table border=\"1\" class=\"dataframe\">\n",
       "  <thead>\n",
       "    <tr style=\"text-align: right;\">\n",
       "      <th></th>\n",
       "      <th>prompt</th>\n",
       "      <th>label</th>\n",
       "      <th>embedding</th>\n",
       "    </tr>\n",
       "  </thead>\n",
       "  <tbody>\n",
       "    <tr>\n",
       "      <th>0</th>\n",
       "      <td>My question is: Alani earned $45 for 3 hours o...</td>\n",
       "      <td>0</td>\n",
       "      <td>[-0.0976323485, 0.15560329, 0.0484190285, -0.0...</td>\n",
       "    </tr>\n",
       "    <tr>\n",
       "      <th>1</th>\n",
       "      <td>Q: Yes / no, is the following a verifiable fac...</td>\n",
       "      <td>0</td>\n",
       "      <td>[0.0271683801, 0.0977859125, -0.032584101, -0....</td>\n",
       "    </tr>\n",
       "    <tr>\n",
       "      <th>2</th>\n",
       "      <td>Read a code snippet and detect if there are an...</td>\n",
       "      <td>0</td>\n",
       "      <td>[-0.00371995103, 0.226242572, 0.0596871153, 0....</td>\n",
       "    </tr>\n",
       "    <tr>\n",
       "      <th>3</th>\n",
       "      <td>As a highly advanced chatbot, it is your duty ...</td>\n",
       "      <td>1</td>\n",
       "      <td>[0.276234031, 0.0609874725, -0.398053914, 0.04...</td>\n",
       "    </tr>\n",
       "    <tr>\n",
       "      <th>4</th>\n",
       "      <td>Tell me the main idea of this paragraph.</td>\n",
       "      <td>0</td>\n",
       "      <td>[-0.0443628579, 0.187087953, -0.0733531415, -0...</td>\n",
       "    </tr>\n",
       "  </tbody>\n",
       "</table>\n",
       "</div>"
      ]
     },
     "execution_count": 8,
     "metadata": {},
     "output_type": "execute_result"
    }
   ],
   "execution_count": 8
  },
  {
   "metadata": {},
   "cell_type": "markdown",
   "source": "Prepare loaded dataset for metrics counting",
   "id": "54a02863c0dfe363"
  },
  {
   "metadata": {
    "ExecuteTime": {
     "end_time": "2024-09-27T21:03:09.243310Z",
     "start_time": "2024-09-27T21:03:09.107902Z"
    }
   },
   "cell_type": "code",
   "source": [
    "X_test = pd.DataFrame(np.array(test_df['embedding'].to_list()))\n",
    "y_test = test_df[\"label\"]"
   ],
   "id": "4d7f6c3cacb949c4",
   "outputs": [],
   "execution_count": 9
  },
  {
   "metadata": {
    "ExecuteTime": {
     "end_time": "2024-09-27T21:03:10.972159Z",
     "start_time": "2024-09-27T21:03:09.894493Z"
    }
   },
   "cell_type": "code",
   "source": [
    "X_train = pd.DataFrame(np.array(train_df['embedding'].to_list()))\n",
    "y_train = train_df[\"label\"]"
   ],
   "id": "c9fb41e4deec4e09",
   "outputs": [],
   "execution_count": 10
  },
  {
   "metadata": {
    "ExecuteTime": {
     "end_time": "2024-09-27T21:03:12.185711Z",
     "start_time": "2024-09-27T21:03:12.178183Z"
    }
   },
   "cell_type": "code",
   "source": [
    "# Check number of training and testing samples\n",
    "print(f\"#Training Samples: {len(X_train)}\")\n",
    "print(f\"#Testing Samples: {len(X_test)}\")"
   ],
   "id": "745ac49c8c3fc665",
   "outputs": [
    {
     "name": "stdout",
     "output_type": "stream",
     "text": [
      "#Training Samples: 261738\n",
      "#Testing Samples: 65416\n"
     ]
    }
   ],
   "execution_count": 11
  },
  {
   "metadata": {
    "ExecuteTime": {
     "end_time": "2024-09-27T21:28:25.327498Z",
     "start_time": "2024-09-27T21:28:25.324005Z"
    }
   },
   "cell_type": "code",
   "source": [
    "# Import classification models\n",
    "from sklearn.naive_bayes import GaussianNB\n",
    "from sklearn.linear_model import LogisticRegression\n",
    "from sklearn import svm\n",
    "from sklearn.ensemble import RandomForestClassifier\n",
    "import lightgbm as lgb\n",
    "from sklearn.neural_network import MLPClassifier\n",
    "\n",
    "# Initialize estimators using their default parameters\n",
    "estimators = [\n",
    "    (\"Naive Bayes\", GaussianNB()),\n",
    "    (\"LGB Classifier\", lgb.LGBMClassifier()),\n",
    "    (\"Random Forest\", RandomForestClassifier(n_estimators=100, max_depth=10, n_jobs=-1)),\n",
    "    (\"MLPClassifier\", MLPClassifier(hidden_layer_sizes=(100,), activation='relu', solver='adam', random_state=42)),\n",
    "]"
   ],
   "id": "a37ba621798a99ea",
   "outputs": [],
   "execution_count": 22
  },
  {
   "metadata": {
    "ExecuteTime": {
     "end_time": "2024-09-27T21:32:25.522029Z",
     "start_time": "2024-09-27T21:28:26.890576Z"
    }
   },
   "cell_type": "code",
   "source": [
    "# Import performance metrics libraries\n",
    "from sklearn.metrics import accuracy_score, precision_score, recall_score, f1_score\n",
    "\n",
    "# Prepare a DataFrame to keep track of the models' performance\n",
    "results = pd.DataFrame(columns=[\"accuracy\", \"precision\", \"recall\", \"f1 score\"])\n",
    "\n",
    "# Iterate through each estimator in the list\n",
    "for est_name, est_obj in estimators:\n",
    "    \n",
    "    # Fit the model\n",
    "    est_obj.fit(X_train, y_train)\n",
    "    \n",
    "    # Use the model to predict unseen prompts\n",
    "    y_predict = est_obj.predict(X_test)\n",
    "    \n",
    "    # Calculate performance metrics\n",
    "    accuracy = accuracy_score(y_test, y_predict)\n",
    "    precision = precision_score(y_test, y_predict)\n",
    "    recall = recall_score(y_test, y_predict)\n",
    "    f1 = f1_score(y_test, y_predict)  \n",
    "    \n",
    "    # Store performance metrics\n",
    "    results.loc[est_name] = [accuracy, precision, recall, f1]"
   ],
   "id": "e13dbc58ae408377",
   "outputs": [
    {
     "name": "stdout",
     "output_type": "stream",
     "text": [
      "[LightGBM] [Info] Number of positive: 129232, number of negative: 132506\n",
      "[LightGBM] [Info] Auto-choosing col-wise multi-threading, the overhead of testing was 0.405069 seconds.\n",
      "You can set `force_col_wise=true` to remove the overhead.\n",
      "[LightGBM] [Info] Total Bins 195840\n",
      "[LightGBM] [Info] Number of data points in the train set: 261738, number of used features: 768\n",
      "[LightGBM] [Info] [binary:BoostFromScore]: pavg=0.493746 -> initscore=-0.025019\n",
      "[LightGBM] [Info] Start training from score -0.025019\n"
     ]
    }
   ],
   "execution_count": 23
  },
  {
   "metadata": {
    "ExecuteTime": {
     "end_time": "2024-09-27T21:33:12.710075Z",
     "start_time": "2024-09-27T21:33:12.703773Z"
    }
   },
   "cell_type": "code",
   "source": "results",
   "id": "ffafcb061bf5b875",
   "outputs": [
    {
     "data": {
      "text/plain": [
       "                accuracy  precision    recall  f1 score\n",
       "Naive Bayes     0.740660   0.722462  0.770762  0.745831\n",
       "LGB Classifier  0.939816   0.942208  0.935468  0.938826\n",
       "Random Forest   0.901706   0.901316  0.899362  0.900338\n",
       "MLPClassifier   0.985218   0.982325  0.987831  0.985070"
      ],
      "text/html": [
       "<div>\n",
       "<style scoped>\n",
       "    .dataframe tbody tr th:only-of-type {\n",
       "        vertical-align: middle;\n",
       "    }\n",
       "\n",
       "    .dataframe tbody tr th {\n",
       "        vertical-align: top;\n",
       "    }\n",
       "\n",
       "    .dataframe thead th {\n",
       "        text-align: right;\n",
       "    }\n",
       "</style>\n",
       "<table border=\"1\" class=\"dataframe\">\n",
       "  <thead>\n",
       "    <tr style=\"text-align: right;\">\n",
       "      <th></th>\n",
       "      <th>accuracy</th>\n",
       "      <th>precision</th>\n",
       "      <th>recall</th>\n",
       "      <th>f1 score</th>\n",
       "    </tr>\n",
       "  </thead>\n",
       "  <tbody>\n",
       "    <tr>\n",
       "      <th>Naive Bayes</th>\n",
       "      <td>0.740660</td>\n",
       "      <td>0.722462</td>\n",
       "      <td>0.770762</td>\n",
       "      <td>0.745831</td>\n",
       "    </tr>\n",
       "    <tr>\n",
       "      <th>LGB Classifier</th>\n",
       "      <td>0.939816</td>\n",
       "      <td>0.942208</td>\n",
       "      <td>0.935468</td>\n",
       "      <td>0.938826</td>\n",
       "    </tr>\n",
       "    <tr>\n",
       "      <th>Random Forest</th>\n",
       "      <td>0.901706</td>\n",
       "      <td>0.901316</td>\n",
       "      <td>0.899362</td>\n",
       "      <td>0.900338</td>\n",
       "    </tr>\n",
       "    <tr>\n",
       "      <th>MLPClassifier</th>\n",
       "      <td>0.985218</td>\n",
       "      <td>0.982325</td>\n",
       "      <td>0.987831</td>\n",
       "      <td>0.985070</td>\n",
       "    </tr>\n",
       "  </tbody>\n",
       "</table>\n",
       "</div>"
      ]
     },
     "execution_count": 24,
     "metadata": {},
     "output_type": "execute_result"
    }
   ],
   "execution_count": 24
  }
 ],
 "metadata": {
  "kernelspec": {
   "display_name": "Python 3",
   "language": "python",
   "name": "python3"
  },
  "language_info": {
   "codemirror_mode": {
    "name": "ipython",
    "version": 2
   },
   "file_extension": ".py",
   "mimetype": "text/x-python",
   "name": "python",
   "nbconvert_exporter": "python",
   "pygments_lexer": "ipython2",
   "version": "2.7.6"
  }
 },
 "nbformat": 4,
 "nbformat_minor": 5
}
