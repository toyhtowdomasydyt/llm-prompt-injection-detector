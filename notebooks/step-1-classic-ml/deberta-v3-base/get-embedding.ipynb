{
 "cells": [
  {
   "cell_type": "markdown",
   "id": "99132ca0588dab7",
   "metadata": {},
   "source": [
    "Setup PyTorch to use best hardware option"
   ]
  },
  {
   "cell_type": "code",
   "execution_count": null,
   "id": "initial_id",
   "metadata": {
    "collapsed": true
   },
   "outputs": [],
   "source": [
    "import torch\n",
    "\n",
    "if torch.backends.mps.is_available():\n",
    "    device = torch.device(\"mps\")\n",
    "elif torch.cuda.is_available():\n",
    "    device = torch.device(\"cuda\")\n",
    "else:\n",
    "    device = torch.device(\"cpu\")\n",
    "\n",
    "print(device)"
   ]
  },
  {
   "cell_type": "code",
   "execution_count": null,
   "id": "4bff4c73f5362b35",
   "metadata": {},
   "outputs": [],
   "source": [
    "device = torch.device(\"cpu\")"
   ]
  },
  {
   "cell_type": "markdown",
   "id": "399339a365792d9d",
   "metadata": {},
   "source": [
    "Dataset download"
   ]
  },
  {
   "cell_type": "code",
   "execution_count": null,
   "id": "f8e20dcb5a30dd59",
   "metadata": {},
   "outputs": [],
   "source": [
    "import pandas as pd\n",
    "import swifter\n",
    "\n",
    "splits = {'train': 'data/train-00000-of-00001.parquet', 'test': 'data/test-00000-of-00001.parquet'}\n",
    "train_df = pd.read_parquet(\"hf://datasets/jayavibhav/prompt-injection/\" + splits[\"train\"])\n",
    "test_df = pd.read_parquet(\"hf://datasets/jayavibhav/prompt-injection/\" + splits[\"test\"])"
   ]
  },
  {
   "cell_type": "code",
   "execution_count": null,
   "id": "7ae245f4be72d19f",
   "metadata": {},
   "outputs": [],
   "source": [
    "test_df.rename(columns={\"text\":\"prompt\"}, inplace=True)\n",
    "train_df.rename(columns={\"text\":\"prompt\"}, inplace=True)"
   ]
  },
  {
   "cell_type": "code",
   "execution_count": null,
   "id": "75acf8733fdb95bb",
   "metadata": {},
   "outputs": [],
   "source": [
    "test_df.head()"
   ]
  },
  {
   "cell_type": "code",
   "execution_count": null,
   "id": "f6be90c0f915f063",
   "metadata": {},
   "outputs": [],
   "source": [
    "train_df.head()"
   ]
  },
  {
   "cell_type": "markdown",
   "id": "2b422daade6db533",
   "metadata": {},
   "source": [
    "Get model and tokenizer from Hugginface"
   ]
  },
  {
   "cell_type": "code",
   "execution_count": null,
   "id": "a83a5a1fb9cbc8bd",
   "metadata": {},
   "outputs": [],
   "source": [
    "from transformers import DebertaV2Tokenizer, DebertaV2Model\n",
    "\n",
    "model_name = \"microsoft/deberta-v3-base\"\n",
    "tokenizer = DebertaV2Tokenizer.from_pretrained(model_name, clean_up_tokenization_spaces=False, use_fast=True)\n",
    "model = DebertaV2Model.from_pretrained(model_name).to(device)"
   ]
  },
  {
   "cell_type": "code",
   "execution_count": null,
   "id": "716a021af29736e2",
   "metadata": {},
   "outputs": [],
   "source": [
    "def get_embedding(prompt):\n",
    "    tokens = tokenizer(prompt, return_tensors='pt', truncation=True, padding=True, max_length=512).to(device)\n",
    "\n",
    "    with torch.no_grad():\n",
    "        outputs = model(**tokens)\n",
    "\n",
    "    last_hidden_states = outputs.last_hidden_state\n",
    "    embedding_vector = last_hidden_states.mean(dim=1).squeeze().cpu().numpy()\n",
    "\n",
    "    return embedding_vector"
   ]
  },
  {
   "cell_type": "code",
   "execution_count": null,
   "id": "4cf70846f7ea778e",
   "metadata": {},
   "outputs": [],
   "source": [
    "train_df['embedding'] = train_df['prompt'].swifter.apply(get_embedding)"
   ]
  },
  {
   "cell_type": "code",
   "execution_count": null,
   "id": "dfc8c788b61e119c",
   "metadata": {},
   "outputs": [],
   "source": [
    "test_df['embedding'] = test_df['prompt'].swifter.apply(get_embedding)"
   ]
  },
  {
   "cell_type": "markdown",
   "id": "3a4b025ac9f32c6a",
   "metadata": {},
   "source": [
    "Save generated embedding into artifacts for reuse"
   ]
  },
  {
   "cell_type": "code",
   "execution_count": 6,
   "id": "62e1e032ce12ff46",
   "metadata": {},
   "outputs": [],
   "source": [
    "import os\n",
    "\n",
    "ARTIFACTS_BASE = '../../../artifacts/step-1-classic-ml/deberta-v3-base/'\n",
    "os.makedirs(ARTIFACTS_BASE, exist_ok=True)"
   ]
  },
  {
   "cell_type": "code",
   "execution_count": null,
   "id": "4c9599387c186674",
   "metadata": {},
   "outputs": [],
   "source": [
    "train_df.to_csv(ARTIFACTS_BASE + 'train_df.csv', index=False)\n",
    "train_df.to_pickle(ARTIFACTS_BASE + 'train_df.pkl')"
   ]
  },
  {
   "cell_type": "code",
   "execution_count": null,
   "id": "80b09a067949b2b8",
   "metadata": {},
   "outputs": [],
   "source": [
    "test_df.to_csv(ARTIFACTS_BASE + 'test_df.csv', index=False)\n",
    "test_df.to_pickle(ARTIFACTS_BASE + 'test_df.pkl')"
   ]
  }
 ],
 "metadata": {
  "kernelspec": {
   "display_name": ".venv",
   "language": "python",
   "name": "python3"
  },
  "language_info": {
   "codemirror_mode": {
    "name": "ipython",
    "version": 3
   },
   "file_extension": ".py",
   "mimetype": "text/x-python",
   "name": "python",
   "nbconvert_exporter": "python",
   "pygments_lexer": "ipython3",
   "version": "3.12.5"
  }
 },
 "nbformat": 4,
 "nbformat_minor": 5
}
