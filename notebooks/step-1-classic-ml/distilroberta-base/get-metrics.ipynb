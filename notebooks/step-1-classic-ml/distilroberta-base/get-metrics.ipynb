{
 "cells": [
  {
   "cell_type": "markdown",
   "id": "99132ca0588dab7",
   "metadata": {},
   "source": [
    "Setup PyTorch to use best hardware option"
   ]
  },
  {
   "cell_type": "code",
   "execution_count": 24,
   "id": "initial_id",
   "metadata": {
    "ExecuteTime": {
     "end_time": "2024-09-27T21:01:48.411119Z",
     "start_time": "2024-09-27T21:01:47.625067Z"
    }
   },
   "outputs": [
    {
     "name": "stdout",
     "output_type": "stream",
     "text": [
      "mps\n"
     ]
    }
   ],
   "source": [
    "import torch\n",
    "\n",
    "if torch.backends.mps.is_available():\n",
    "    device = torch.device(\"mps\")\n",
    "elif torch.cuda.is_available():\n",
    "    device = torch.device(\"cuda\")\n",
    "else:\n",
    "    device = torch.device(\"cpu\")\n",
    "\n",
    "print(device)"
   ]
  },
  {
   "cell_type": "markdown",
   "id": "268def2a29726137",
   "metadata": {},
   "source": [
    "Get model and tokenizer from Hugginface"
   ]
  },
  {
   "cell_type": "code",
   "execution_count": 25,
   "id": "a83a5a1fb9cbc8bd",
   "metadata": {
    "ExecuteTime": {
     "end_time": "2024-09-27T21:01:53.944874Z",
     "start_time": "2024-09-27T21:01:52.109354Z"
    }
   },
   "outputs": [
    {
     "data": {
      "text/plain": [
       "RobertaModel(\n",
       "  (embeddings): RobertaEmbeddings(\n",
       "    (word_embeddings): Embedding(50265, 768, padding_idx=1)\n",
       "    (position_embeddings): Embedding(514, 768, padding_idx=1)\n",
       "    (token_type_embeddings): Embedding(1, 768)\n",
       "    (LayerNorm): LayerNorm((768,), eps=1e-05, elementwise_affine=True)\n",
       "    (dropout): Dropout(p=0.1, inplace=False)\n",
       "  )\n",
       "  (encoder): RobertaEncoder(\n",
       "    (layer): ModuleList(\n",
       "      (0-5): 6 x RobertaLayer(\n",
       "        (attention): RobertaAttention(\n",
       "          (self): RobertaSelfAttention(\n",
       "            (query): Linear(in_features=768, out_features=768, bias=True)\n",
       "            (key): Linear(in_features=768, out_features=768, bias=True)\n",
       "            (value): Linear(in_features=768, out_features=768, bias=True)\n",
       "            (dropout): Dropout(p=0.1, inplace=False)\n",
       "          )\n",
       "          (output): RobertaSelfOutput(\n",
       "            (dense): Linear(in_features=768, out_features=768, bias=True)\n",
       "            (LayerNorm): LayerNorm((768,), eps=1e-05, elementwise_affine=True)\n",
       "            (dropout): Dropout(p=0.1, inplace=False)\n",
       "          )\n",
       "        )\n",
       "        (intermediate): RobertaIntermediate(\n",
       "          (dense): Linear(in_features=768, out_features=3072, bias=True)\n",
       "          (intermediate_act_fn): GELUActivation()\n",
       "        )\n",
       "        (output): RobertaOutput(\n",
       "          (dense): Linear(in_features=3072, out_features=768, bias=True)\n",
       "          (LayerNorm): LayerNorm((768,), eps=1e-05, elementwise_affine=True)\n",
       "          (dropout): Dropout(p=0.1, inplace=False)\n",
       "        )\n",
       "      )\n",
       "    )\n",
       "  )\n",
       "  (pooler): RobertaPooler(\n",
       "    (dense): Linear(in_features=768, out_features=768, bias=True)\n",
       "    (activation): Tanh()\n",
       "  )\n",
       ")"
      ]
     },
     "execution_count": 25,
     "metadata": {},
     "output_type": "execute_result"
    }
   ],
   "source": [
    "from transformers import AutoTokenizer, AutoModel\n",
    "\n",
    "model_name = \"distilbert/distilroberta-base\"\n",
    "tokenizer = AutoTokenizer.from_pretrained(model_name, clean_up_tokenization_spaces=False, use_fast=True)\n",
    "model = AutoModel.from_pretrained(model_name).to(device)\n",
    "model.eval()"
   ]
  },
  {
   "cell_type": "markdown",
   "id": "751ee7cd65074c85",
   "metadata": {},
   "source": [
    "Dataset load"
   ]
  },
  {
   "cell_type": "code",
   "execution_count": 26,
   "id": "62e1e032ce12ff46",
   "metadata": {
    "ExecuteTime": {
     "end_time": "2024-09-27T21:02:07.970153Z",
     "start_time": "2024-09-27T21:02:07.967459Z"
    }
   },
   "outputs": [],
   "source": [
    "ARTIFACTS_BASE = '../../../artifacts'"
   ]
  },
  {
   "cell_type": "code",
   "execution_count": 28,
   "id": "ee500520",
   "metadata": {},
   "outputs": [],
   "source": [
    "from os import path\n",
    "from datasets import load_from_disk\n",
    "\n",
    "dataset_path = path.join(ARTIFACTS_BASE, 'step-1-classic-ml', 'distilroberta-base')\n",
    "\n",
    "train_dataset = load_from_disk(path.join(dataset_path, 'train'))\n",
    "test_dataset = load_from_disk(path.join(dataset_path, 'test'))"
   ]
  },
  {
   "cell_type": "markdown",
   "id": "54a02863c0dfe363",
   "metadata": {},
   "source": [
    "Prepare loaded dataset for metrics counting"
   ]
  },
  {
   "cell_type": "code",
   "execution_count": 29,
   "id": "4d7f6c3cacb949c4",
   "metadata": {
    "ExecuteTime": {
     "end_time": "2024-09-27T21:03:09.243310Z",
     "start_time": "2024-09-27T21:03:09.107902Z"
    }
   },
   "outputs": [],
   "source": [
    "import numpy as np\n",
    "\n",
    "X_test_embedding_list = np.array(test_dataset[\"embedding\"])\n",
    "y_test_label_list = np.array(test_dataset[\"label\"])\n",
    "\n",
    "X_train_embedding_list = np.array(train_dataset[\"embedding\"])\n",
    "y_train_label_list = np.array(train_dataset[\"label\"])"
   ]
  },
  {
   "cell_type": "code",
   "execution_count": 30,
   "id": "a37ba621798a99ea",
   "metadata": {
    "ExecuteTime": {
     "end_time": "2024-09-27T21:28:25.327498Z",
     "start_time": "2024-09-27T21:28:25.324005Z"
    }
   },
   "outputs": [],
   "source": [
    "# Import classification models\n",
    "from sklearn.naive_bayes import GaussianNB\n",
    "from sklearn.linear_model import LogisticRegression\n",
    "from sklearn import svm\n",
    "from sklearn.ensemble import RandomForestClassifier\n",
    "import lightgbm as lgb\n",
    "from sklearn.neural_network import MLPClassifier\n",
    "\n",
    "# Initialize estimators using their default parameters\n",
    "estimators = [\n",
    "    (\"Naive Bayes\", GaussianNB()),\n",
    "    (\"LGB Classifier\", lgb.LGBMClassifier()),\n",
    "    (\"Random Forest\", RandomForestClassifier(n_estimators=100, max_depth=10, n_jobs=-1)),\n",
    "    (\"MLPClassifier\", MLPClassifier(hidden_layer_sizes=(100,), activation='relu', solver='adam', random_state=42)),\n",
    "]"
   ]
  },
  {
   "cell_type": "code",
   "execution_count": 31,
   "id": "e13dbc58ae408377",
   "metadata": {
    "ExecuteTime": {
     "end_time": "2024-09-27T21:32:25.522029Z",
     "start_time": "2024-09-27T21:28:26.890576Z"
    }
   },
   "outputs": [
    {
     "name": "stderr",
     "output_type": "stream",
     "text": [
      "Calculate metrics:  25%|██▌       | 1/4 [00:01<00:05,  1.78s/it]"
     ]
    },
    {
     "name": "stdout",
     "output_type": "stream",
     "text": [
      "[LightGBM] [Info] Number of positive: 129232, number of negative: 132506\n",
      "[LightGBM] [Info] Auto-choosing col-wise multi-threading, the overhead of testing was 0.372230 seconds.\n",
      "You can set `force_col_wise=true` to remove the overhead.\n",
      "[LightGBM] [Info] Total Bins 195840\n",
      "[LightGBM] [Info] Number of data points in the train set: 261738, number of used features: 768\n",
      "[LightGBM] [Info] [binary:BoostFromScore]: pavg=0.493746 -> initscore=-0.025019\n",
      "[LightGBM] [Info] Start training from score -0.025019\n"
     ]
    },
    {
     "name": "stderr",
     "output_type": "stream",
     "text": [
      "Calculate metrics: 100%|██████████| 4/4 [05:04<00:00, 76.14s/it] \n"
     ]
    }
   ],
   "source": [
    "# Import performance metrics libraries\n",
    "import pandas as pd\n",
    "from sklearn.metrics import accuracy_score, precision_score, recall_score, f1_score\n",
    "from tqdm import tqdm\n",
    "\n",
    "# Prepare a DataFrame to keep track of the models' performance\n",
    "results = pd.DataFrame(columns=[\"accuracy\", \"precision\", \"recall\", \"f1 score\"])\n",
    "\n",
    "# Iterate through each estimator in the list\n",
    "for est_name, est_obj in tqdm(desc='Calculate metrics', iterable=estimators):\n",
    "\n",
    "    if hasattr(est_obj, 'to'):\n",
    "        est_obj.to(device)  # Move model to GPU if supported\n",
    "    \n",
    "    # Fit the model\n",
    "    est_obj.fit(X_train_embedding_list, y_train_label_list)\n",
    "    \n",
    "    # Use the model to predict unseen prompts\n",
    "    y_predict = est_obj.predict(X_test_embedding_list)\n",
    "    \n",
    "    # Calculate performance metrics\n",
    "    accuracy = accuracy_score(y_test_label_list, y_predict)\n",
    "    precision = precision_score(y_test_label_list, y_predict)\n",
    "    recall = recall_score(y_test_label_list, y_predict)\n",
    "    f1 = f1_score(y_test_label_list, y_predict)  \n",
    "    \n",
    "    # Store performance metrics\n",
    "    results.loc[est_name] = [accuracy, precision, recall, f1]"
   ]
  },
  {
   "cell_type": "code",
   "execution_count": 32,
   "id": "ffafcb061bf5b875",
   "metadata": {
    "ExecuteTime": {
     "end_time": "2024-09-27T21:33:12.710075Z",
     "start_time": "2024-09-27T21:33:12.703773Z"
    }
   },
   "outputs": [
    {
     "data": {
      "text/html": [
       "<div>\n",
       "<style scoped>\n",
       "    .dataframe tbody tr th:only-of-type {\n",
       "        vertical-align: middle;\n",
       "    }\n",
       "\n",
       "    .dataframe tbody tr th {\n",
       "        vertical-align: top;\n",
       "    }\n",
       "\n",
       "    .dataframe thead th {\n",
       "        text-align: right;\n",
       "    }\n",
       "</style>\n",
       "<table border=\"1\" class=\"dataframe\">\n",
       "  <thead>\n",
       "    <tr style=\"text-align: right;\">\n",
       "      <th></th>\n",
       "      <th>accuracy</th>\n",
       "      <th>precision</th>\n",
       "      <th>recall</th>\n",
       "      <th>f1 score</th>\n",
       "    </tr>\n",
       "  </thead>\n",
       "  <tbody>\n",
       "    <tr>\n",
       "      <th>Naive Bayes</th>\n",
       "      <td>0.827886</td>\n",
       "      <td>0.817184</td>\n",
       "      <td>0.839072</td>\n",
       "      <td>0.827983</td>\n",
       "    </tr>\n",
       "    <tr>\n",
       "      <th>LGB Classifier</th>\n",
       "      <td>0.940580</td>\n",
       "      <td>0.941445</td>\n",
       "      <td>0.937976</td>\n",
       "      <td>0.939707</td>\n",
       "    </tr>\n",
       "    <tr>\n",
       "      <th>Random Forest</th>\n",
       "      <td>0.910190</td>\n",
       "      <td>0.904418</td>\n",
       "      <td>0.914752</td>\n",
       "      <td>0.909556</td>\n",
       "    </tr>\n",
       "    <tr>\n",
       "      <th>MLPClassifier</th>\n",
       "      <td>0.980968</td>\n",
       "      <td>0.974480</td>\n",
       "      <td>0.987304</td>\n",
       "      <td>0.980850</td>\n",
       "    </tr>\n",
       "  </tbody>\n",
       "</table>\n",
       "</div>"
      ],
      "text/plain": [
       "                accuracy  precision    recall  f1 score\n",
       "Naive Bayes     0.827886   0.817184  0.839072  0.827983\n",
       "LGB Classifier  0.940580   0.941445  0.937976  0.939707\n",
       "Random Forest   0.910190   0.904418  0.914752  0.909556\n",
       "MLPClassifier   0.980968   0.974480  0.987304  0.980850"
      ]
     },
     "execution_count": 32,
     "metadata": {},
     "output_type": "execute_result"
    }
   ],
   "source": [
    "results"
   ]
  }
 ],
 "metadata": {
  "kernelspec": {
   "display_name": ".venv",
   "language": "python",
   "name": "python3"
  },
  "language_info": {
   "codemirror_mode": {
    "name": "ipython",
    "version": 3
   },
   "file_extension": ".py",
   "mimetype": "text/x-python",
   "name": "python",
   "nbconvert_exporter": "python",
   "pygments_lexer": "ipython3",
   "version": "3.12.5"
  }
 },
 "nbformat": 4,
 "nbformat_minor": 5
}
